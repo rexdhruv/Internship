{
 "cells": [
  {
   "cell_type": "code",
   "execution_count": 1,
   "id": "9dfb3f45",
   "metadata": {},
   "outputs": [],
   "source": [
    "# Let's import all the required libraries.\n",
    "import selenium \n",
    "from selenium import webdriver\n",
    "import pandas as pd\n",
    "import time\n",
    "\n",
    "import warnings\n",
    "warnings.filterwarnings('ignore')"
   ]
  },
  {
   "cell_type": "markdown",
   "id": "448c4476",
   "metadata": {},
   "source": [
    "### Q1: Write a python program to scrape data for “Data Analyst” Job position in “Bangalore” location. You have to scrape the job-title, job-location, company_name, experience_required. You have to scrape first 10 jobs data.\n",
    "This task will be done in following steps:\n",
    "\n",
    "1. First get the webpage https://www.naukri.com/\n",
    "2. Enter “Data Analyst” in “Skill, Designations, Companies” field and enter “Bangalore” in “enter the location” field.\n",
    "3. Then click the search button.\n",
    "4. Then scrape the data for the first 10 jobs results you get.\n",
    "5. Finally create a dataframe of the scraped data."
   ]
  },
  {
   "cell_type": "code",
   "execution_count": 2,
   "id": "399aa25c",
   "metadata": {},
   "outputs": [],
   "source": [
    "# Let's first connect to the web driver\n",
    "driver1 = webdriver.Chrome(r\"C:\\Users\\dell\\Downloads\\chromedriver_win32\\chromedriver.exe\")"
   ]
  },
  {
   "cell_type": "code",
   "execution_count": 3,
   "id": "23fc6471",
   "metadata": {},
   "outputs": [],
   "source": [
    "url1='https://www.naukri.com/'\n",
    "driver1.get(url1)"
   ]
  },
  {
   "cell_type": "code",
   "execution_count": 4,
   "id": "5eaf4bcd",
   "metadata": {},
   "outputs": [
    {
     "data": {
      "text/plain": [
       "<selenium.webdriver.remote.webelement.WebElement (session=\"b0943b1e3bfbc318aaf8207dbf5fc3d4\", element=\"2bd51619-e1ce-416f-a889-cf8d673eb2c6\")>"
      ]
     },
     "execution_count": 4,
     "metadata": {},
     "output_type": "execute_result"
    }
   ],
   "source": [
    "# finding web element for search job bar using id\n",
    "search_job1 = driver1.find_element_by_class_name('suggestor-input')\n",
    "search_job1"
   ]
  },
  {
   "cell_type": "code",
   "execution_count": 5,
   "id": "2bb3b250",
   "metadata": {},
   "outputs": [],
   "source": [
    "# write on search bar \n",
    "search_job1.send_keys('Data Analyst')"
   ]
  },
  {
   "cell_type": "code",
   "execution_count": 6,
   "id": "eb0066a4",
   "metadata": {},
   "outputs": [
    {
     "data": {
      "text/plain": [
       "<selenium.webdriver.remote.webelement.WebElement (session=\"b0943b1e3bfbc318aaf8207dbf5fc3d4\", element=\"8ffa22c9-8cf0-4f23-a5da-96c0761f92a8\")>"
      ]
     },
     "execution_count": 6,
     "metadata": {},
     "output_type": "execute_result"
    }
   ],
   "source": [
    "# Finding Web element for search location bar using absolute xpath\n",
    "search_locn1 = driver1.find_element_by_xpath('/html/body/div/div[2]/div[3]/div/div/div[3]/div/div/div/input')\n",
    "search_locn1"
   ]
  },
  {
   "cell_type": "code",
   "execution_count": 7,
   "id": "addb4233",
   "metadata": {},
   "outputs": [],
   "source": [
    "# finding web element for job location bar\n",
    "search_locn1.send_keys('Bangalore')"
   ]
  },
  {
   "cell_type": "code",
   "execution_count": 8,
   "id": "eb04beba",
   "metadata": {},
   "outputs": [
    {
     "data": {
      "text/plain": [
       "<selenium.webdriver.remote.webelement.WebElement (session=\"b0943b1e3bfbc318aaf8207dbf5fc3d4\", element=\"bcc17989-223d-48aa-9aab-7f3e5974b2ea\")>"
      ]
     },
     "execution_count": 8,
     "metadata": {},
     "output_type": "execute_result"
    }
   ],
   "source": [
    "# Clicking using absolute Xpath function\n",
    "search_btn1 = driver1.find_element_by_class_name('qsbSubmit')\n",
    "search_btn1"
   ]
  },
  {
   "cell_type": "code",
   "execution_count": 9,
   "id": "d3dc5bd6",
   "metadata": {},
   "outputs": [],
   "source": [
    "search_btn1.click()"
   ]
  },
  {
   "cell_type": "markdown",
   "id": "9b20ee14",
   "metadata": {},
   "source": [
    "#### Extract Job Titles"
   ]
  },
  {
   "cell_type": "code",
   "execution_count": 10,
   "id": "0267a911",
   "metadata": {
    "scrolled": true
   },
   "outputs": [
    {
     "data": {
      "text/plain": [
       "['Senior Data Analyst', 'Assistant Clinical Data Analyst']"
      ]
     },
     "execution_count": 10,
     "metadata": {},
     "output_type": "execute_result"
    }
   ],
   "source": [
    "# Let's extract all the job elements using job titles\n",
    "title_tags1 = driver1.find_elements_by_xpath(\"//a[@class='title fw500 ellipsis']\")\n",
    "\n",
    "# Now the text of job_titles is inside the web element extracted above\n",
    "# so we will run a for loop to iterate over the tags and will extract text from title tags\n",
    "job_titles1 = []\n",
    "\n",
    "for i in title_tags1:\n",
    "    job_titles1.append(i.text)\n",
    "len(job_titles1)\n",
    "job_titles1[:2]"
   ]
  },
  {
   "cell_type": "markdown",
   "id": "e7e0f4d9",
   "metadata": {},
   "source": [
    "#### Extract Company Names"
   ]
  },
  {
   "cell_type": "code",
   "execution_count": 11,
   "id": "4881d997",
   "metadata": {},
   "outputs": [
    {
     "data": {
      "text/plain": [
       "['Flipkart', 'Labcorp Drug Development India Private Limited']"
      ]
     },
     "execution_count": 11,
     "metadata": {},
     "output_type": "execute_result"
    }
   ],
   "source": [
    "# Let's extract all the company names using company_tags\n",
    "company_tags1 = driver1.find_elements_by_xpath(\"//a[@class='subTitle ellipsis fleft']\")\n",
    "\n",
    "comp_names1 = []\n",
    "\n",
    "for i in company_tags1:\n",
    "    comp_names1.append(i.text)\n",
    "len(comp_names1)\n",
    "comp_names1[0:2]"
   ]
  },
  {
   "cell_type": "markdown",
   "id": "255f5bcd",
   "metadata": {},
   "source": [
    "#### Extract Experiences"
   ]
  },
  {
   "cell_type": "code",
   "execution_count": 12,
   "id": "740ab68f",
   "metadata": {},
   "outputs": [
    {
     "data": {
      "text/plain": [
       "['4-6 Yrs', '0-2 Yrs']"
      ]
     },
     "execution_count": 12,
     "metadata": {},
     "output_type": "execute_result"
    }
   ],
   "source": [
    "exp_tags1 = driver1.find_elements_by_xpath(\"//li[@class='fleft grey-text br2 placeHolderLi experience']\")\n",
    "\n",
    "experience1 = []\n",
    "\n",
    "for i in exp_tags1:\n",
    "    experience1.append(i.text)\n",
    "len(experience1)\n",
    "experience1[0:2]"
   ]
  },
  {
   "cell_type": "markdown",
   "id": "8a9bd721",
   "metadata": {},
   "source": [
    "#### Extract Locations"
   ]
  },
  {
   "cell_type": "code",
   "execution_count": 13,
   "id": "2ea5b8ab",
   "metadata": {},
   "outputs": [
    {
     "data": {
      "text/plain": [
       "['Bengaluru/Bangalore', 'Bangalore/Bengaluru']"
      ]
     },
     "execution_count": 13,
     "metadata": {},
     "output_type": "execute_result"
    }
   ],
   "source": [
    "loc_tags1 = driver1.find_elements_by_xpath(\"//li[@class='fleft grey-text br2 placeHolderLi location']\")\n",
    "\n",
    "location1 = []\n",
    "\n",
    "for i in loc_tags1:\n",
    "    location1.append(i.text)\n",
    "len(location1)\n",
    "location1[0:2]"
   ]
  },
  {
   "cell_type": "markdown",
   "id": "58cd6168",
   "metadata": {},
   "source": [
    "#### Check Length"
   ]
  },
  {
   "cell_type": "code",
   "execution_count": 14,
   "id": "d9767b7f",
   "metadata": {},
   "outputs": [
    {
     "data": {
      "text/plain": [
       "(20, 20, 19, 20)"
      ]
     },
     "execution_count": 14,
     "metadata": {},
     "output_type": "execute_result"
    }
   ],
   "source": [
    "len(job_titles1),len(comp_names1),len(experience1),len(location1)"
   ]
  },
  {
   "cell_type": "markdown",
   "id": "388e2ebe",
   "metadata": {},
   "source": [
    "#### DataFrame"
   ]
  },
  {
   "cell_type": "code",
   "execution_count": 15,
   "id": "ea4db77c",
   "metadata": {},
   "outputs": [
    {
     "data": {
      "text/html": [
       "<div>\n",
       "<style scoped>\n",
       "    .dataframe tbody tr th:only-of-type {\n",
       "        vertical-align: middle;\n",
       "    }\n",
       "\n",
       "    .dataframe tbody tr th {\n",
       "        vertical-align: top;\n",
       "    }\n",
       "\n",
       "    .dataframe thead th {\n",
       "        text-align: right;\n",
       "    }\n",
       "</style>\n",
       "<table border=\"1\" class=\"dataframe\">\n",
       "  <thead>\n",
       "    <tr style=\"text-align: right;\">\n",
       "      <th></th>\n",
       "      <th>Job Title</th>\n",
       "      <th>Company Name</th>\n",
       "      <th>Experience</th>\n",
       "      <th>Job Location</th>\n",
       "    </tr>\n",
       "  </thead>\n",
       "  <tbody>\n",
       "    <tr>\n",
       "      <th>1</th>\n",
       "      <td>Senior Data Analyst</td>\n",
       "      <td>Flipkart</td>\n",
       "      <td>4-6 Yrs</td>\n",
       "      <td>Bengaluru/Bangalore</td>\n",
       "    </tr>\n",
       "    <tr>\n",
       "      <th>2</th>\n",
       "      <td>Assistant Clinical Data Analyst</td>\n",
       "      <td>Labcorp Drug Development India Private Limited</td>\n",
       "      <td>0-2 Yrs</td>\n",
       "      <td>Bangalore/Bengaluru</td>\n",
       "    </tr>\n",
       "    <tr>\n",
       "      <th>3</th>\n",
       "      <td>Lead - Data Analyst / Scientist</td>\n",
       "      <td>Axim Technologies</td>\n",
       "      <td>12-14 Yrs</td>\n",
       "      <td>Bangalore/Bengaluru</td>\n",
       "    </tr>\n",
       "    <tr>\n",
       "      <th>4</th>\n",
       "      <td>Data Analyst</td>\n",
       "      <td>Flipkart</td>\n",
       "      <td>1-2 Yrs</td>\n",
       "      <td>Bengaluru/Bangalore</td>\n",
       "    </tr>\n",
       "    <tr>\n",
       "      <th>5</th>\n",
       "      <td>Consultant - Data Analyst</td>\n",
       "      <td>Flipkart</td>\n",
       "      <td>1-3 Yrs</td>\n",
       "      <td>Bengaluru/Bangalore</td>\n",
       "    </tr>\n",
       "    <tr>\n",
       "      <th>6</th>\n",
       "      <td>Hiring For Data Analyst</td>\n",
       "      <td>Flipkart</td>\n",
       "      <td>4-8 Yrs</td>\n",
       "      <td>Bangalore/Bengaluru</td>\n",
       "    </tr>\n",
       "    <tr>\n",
       "      <th>7</th>\n",
       "      <td>Senior Data Analyst</td>\n",
       "      <td>Walmart</td>\n",
       "      <td>4-7 Yrs</td>\n",
       "      <td>Bangalore/Bengaluru</td>\n",
       "    </tr>\n",
       "    <tr>\n",
       "      <th>8</th>\n",
       "      <td>Junior Data Analyst/ Scientist- Fresher Position</td>\n",
       "      <td>Sejal Consulting Hub</td>\n",
       "      <td>0-3 Yrs</td>\n",
       "      <td>Kolkata, Gurgaon/Gurugram, Bangalore/Bengaluru...</td>\n",
       "    </tr>\n",
       "    <tr>\n",
       "      <th>9</th>\n",
       "      <td>Data Analyst</td>\n",
       "      <td>Snaphunt</td>\n",
       "      <td>0-2 Yrs</td>\n",
       "      <td>Bangalore/Bengaluru</td>\n",
       "    </tr>\n",
       "    <tr>\n",
       "      <th>10</th>\n",
       "      <td>Data Analyst / Sr. Data Analyst</td>\n",
       "      <td>Vmware</td>\n",
       "      <td>3-6 Yrs</td>\n",
       "      <td>Bangalore/Bengaluru</td>\n",
       "    </tr>\n",
       "  </tbody>\n",
       "</table>\n",
       "</div>"
      ],
      "text/plain": [
       "                                           Job Title  \\\n",
       "1                                Senior Data Analyst   \n",
       "2                    Assistant Clinical Data Analyst   \n",
       "3                    Lead - Data Analyst / Scientist   \n",
       "4                                       Data Analyst   \n",
       "5                          Consultant - Data Analyst   \n",
       "6                            Hiring For Data Analyst   \n",
       "7                                Senior Data Analyst   \n",
       "8   Junior Data Analyst/ Scientist- Fresher Position   \n",
       "9                                       Data Analyst   \n",
       "10                   Data Analyst / Sr. Data Analyst   \n",
       "\n",
       "                                      Company Name Experience  \\\n",
       "1                                         Flipkart    4-6 Yrs   \n",
       "2   Labcorp Drug Development India Private Limited    0-2 Yrs   \n",
       "3                                Axim Technologies  12-14 Yrs   \n",
       "4                                         Flipkart    1-2 Yrs   \n",
       "5                                         Flipkart    1-3 Yrs   \n",
       "6                                         Flipkart    4-8 Yrs   \n",
       "7                                          Walmart    4-7 Yrs   \n",
       "8                             Sejal Consulting Hub    0-3 Yrs   \n",
       "9                                         Snaphunt    0-2 Yrs   \n",
       "10                                          Vmware    3-6 Yrs   \n",
       "\n",
       "                                         Job Location  \n",
       "1                                 Bengaluru/Bangalore  \n",
       "2                                 Bangalore/Bengaluru  \n",
       "3                                 Bangalore/Bengaluru  \n",
       "4                                 Bengaluru/Bangalore  \n",
       "5                                 Bengaluru/Bangalore  \n",
       "6                                 Bangalore/Bengaluru  \n",
       "7                                 Bangalore/Bengaluru  \n",
       "8   Kolkata, Gurgaon/Gurugram, Bangalore/Bengaluru...  \n",
       "9                                 Bangalore/Bengaluru  \n",
       "10                                Bangalore/Bengaluru  "
      ]
     },
     "execution_count": 15,
     "metadata": {},
     "output_type": "execute_result"
    }
   ],
   "source": [
    "jobs1 = pd.DataFrame()\n",
    "jobs1['Job Title'] = job_titles1[0:10]\n",
    "jobs1['Company Name'] = comp_names1[0:10]\n",
    "jobs1['Experience'] = experience1[0:10]\n",
    "jobs1['Job Location'] = location1[0:10]\n",
    "jobs1.index = jobs1.index + 1\n",
    "jobs1"
   ]
  },
  {
   "cell_type": "markdown",
   "id": "e485b97b",
   "metadata": {},
   "source": [
    "### Q2: Write a python program to scrape data for “Data Scientist” Job position in “Bangalore” location. You have to scrape the job-title, job-location, company_name. You have to scrape first 10 jobs data.\n",
    "This task will be done in following steps:\n",
    "\n",
    "1. First get the webpage https://www.naukri.com/\n",
    "2. Enter “Data Scientist” in “Skill, Designations, Companies” field and enter “Bangalore” in “enter the location” field.\n",
    "3. Then click the search button.\n",
    "4. Then scrape the data for the first 10 jobs results you get.\n",
    "5. Finally create a dataframe of the scraped data."
   ]
  },
  {
   "cell_type": "code",
   "execution_count": 16,
   "id": "c0d0c49d",
   "metadata": {},
   "outputs": [],
   "source": [
    "# Let's first connect to the web driver\n",
    "driver2 = webdriver.Chrome(r\"C:\\Users\\dell\\Downloads\\chromedriver_win32\\chromedriver.exe\")"
   ]
  },
  {
   "cell_type": "code",
   "execution_count": 17,
   "id": "ac25fb22",
   "metadata": {},
   "outputs": [],
   "source": [
    "url2='https://www.naukri.com'\n",
    "driver2.get(url2)"
   ]
  },
  {
   "cell_type": "code",
   "execution_count": 18,
   "id": "3ae1031d",
   "metadata": {},
   "outputs": [
    {
     "data": {
      "text/plain": [
       "<selenium.webdriver.remote.webelement.WebElement (session=\"555a06d9ed3117f34c462e16808341ac\", element=\"bd62af0c-7663-4ce7-ae05-c41c725f34c5\")>"
      ]
     },
     "execution_count": 18,
     "metadata": {},
     "output_type": "execute_result"
    }
   ],
   "source": [
    "search_jobs2 = driver2.find_element_by_class_name('suggestor-input')\n",
    "search_jobs2"
   ]
  },
  {
   "cell_type": "code",
   "execution_count": 19,
   "id": "b7d2ab10",
   "metadata": {},
   "outputs": [],
   "source": [
    "search_jobs2.send_keys('Data Scientist')"
   ]
  },
  {
   "cell_type": "code",
   "execution_count": 20,
   "id": "191c937d",
   "metadata": {},
   "outputs": [
    {
     "data": {
      "text/plain": [
       "<selenium.webdriver.remote.webelement.WebElement (session=\"555a06d9ed3117f34c462e16808341ac\", element=\"52a844d1-26b7-471d-9f98-8d9429a1f558\")>"
      ]
     },
     "execution_count": 20,
     "metadata": {},
     "output_type": "execute_result"
    }
   ],
   "source": [
    "search_loc2 = driver2.find_element_by_xpath('/html/body/div/div[2]/div[3]/div/div/div[3]/div/div/div/input')\n",
    "search_loc2"
   ]
  },
  {
   "cell_type": "code",
   "execution_count": 21,
   "id": "55f6ce0a",
   "metadata": {},
   "outputs": [],
   "source": [
    "search_loc2.send_keys('Bangalore')"
   ]
  },
  {
   "cell_type": "code",
   "execution_count": 22,
   "id": "bb007802",
   "metadata": {},
   "outputs": [
    {
     "data": {
      "text/plain": [
       "<selenium.webdriver.remote.webelement.WebElement (session=\"555a06d9ed3117f34c462e16808341ac\", element=\"e6429f5c-3259-4264-87cc-4d72db03c1d8\")>"
      ]
     },
     "execution_count": 22,
     "metadata": {},
     "output_type": "execute_result"
    }
   ],
   "source": [
    "search_btn2 = driver2.find_element_by_xpath('/html/body/div/div[2]/div[3]/div/div/div[6]')\n",
    "search_btn2"
   ]
  },
  {
   "cell_type": "code",
   "execution_count": 23,
   "id": "126d52cc",
   "metadata": {},
   "outputs": [],
   "source": [
    "search_btn2.click()"
   ]
  },
  {
   "cell_type": "markdown",
   "id": "7f160c8c",
   "metadata": {},
   "source": [
    "#### Extract Job titles"
   ]
  },
  {
   "cell_type": "code",
   "execution_count": 24,
   "id": "12f1dc87",
   "metadata": {},
   "outputs": [
    {
     "data": {
      "text/plain": [
       "['Sr Data Scientist', 'Senior/Lead Data Scientist - (Revenue Management)']"
      ]
     },
     "execution_count": 24,
     "metadata": {},
     "output_type": "execute_result"
    }
   ],
   "source": [
    "# Let's extract all the job elements using job titles\n",
    "title_tags2 = driver2.find_elements_by_xpath(\"//a[@class='title fw500 ellipsis']\")\n",
    "\n",
    "# Now the text of job_titles is inside the web element extracted above\n",
    "# so we will run a for loop to iterate over the tags and will extract text from title tags\n",
    "\n",
    "job_titles2 = []\n",
    "\n",
    "for i in title_tags2:\n",
    "    job_titles2.append(i.text)\n",
    "len(job_titles2)\n",
    "job_titles2[0:2]"
   ]
  },
  {
   "cell_type": "markdown",
   "id": "af74cf4d",
   "metadata": {},
   "source": [
    "#### Extract Job Locations"
   ]
  },
  {
   "cell_type": "code",
   "execution_count": 25,
   "id": "79d514c4",
   "metadata": {},
   "outputs": [
    {
     "data": {
      "text/plain": [
       "['Bangalore/Bengaluru', 'Bangalore/Bengaluru']"
      ]
     },
     "execution_count": 25,
     "metadata": {},
     "output_type": "execute_result"
    }
   ],
   "source": [
    "loc_tags2 = driver2.find_elements_by_xpath(\"//li[@class='fleft grey-text br2 placeHolderLi location']\")\n",
    "\n",
    "location2 = []\n",
    "\n",
    "for i in loc_tags2:\n",
    "    location2.append(i.text)\n",
    "len(location2)\n",
    "location2[0:2]"
   ]
  },
  {
   "cell_type": "markdown",
   "id": "0cae79c8",
   "metadata": {},
   "source": [
    "#### Extract Company Names"
   ]
  },
  {
   "cell_type": "code",
   "execution_count": 26,
   "id": "4512d659",
   "metadata": {},
   "outputs": [
    {
     "data": {
      "text/plain": [
       "['Siemens', 'o9 Solutions Management India Private Limited']"
      ]
     },
     "execution_count": 26,
     "metadata": {},
     "output_type": "execute_result"
    }
   ],
   "source": [
    "# Let's extract all the job elements using company_tags\n",
    "company_tags2 = driver2.find_elements_by_xpath(\"//a[@class='subTitle ellipsis fleft']\")\n",
    "\n",
    "comp_names2 = []\n",
    "\n",
    "for i in company_tags2:\n",
    "    comp_names2.append(i.text)\n",
    "len(comp_names2)\n",
    "comp_names2[0:2]"
   ]
  },
  {
   "cell_type": "markdown",
   "id": "23e675a1",
   "metadata": {},
   "source": [
    "#### Check Length"
   ]
  },
  {
   "cell_type": "code",
   "execution_count": 27,
   "id": "1b7df99c",
   "metadata": {},
   "outputs": [
    {
     "data": {
      "text/plain": [
       "(20, 20, 20)"
      ]
     },
     "execution_count": 27,
     "metadata": {},
     "output_type": "execute_result"
    }
   ],
   "source": [
    "len(job_titles2),len(location2),len(comp_names2)"
   ]
  },
  {
   "cell_type": "markdown",
   "id": "f819b188",
   "metadata": {},
   "source": [
    "#### DataFrame"
   ]
  },
  {
   "cell_type": "code",
   "execution_count": 28,
   "id": "4fede4b1",
   "metadata": {},
   "outputs": [
    {
     "data": {
      "text/html": [
       "<div>\n",
       "<style scoped>\n",
       "    .dataframe tbody tr th:only-of-type {\n",
       "        vertical-align: middle;\n",
       "    }\n",
       "\n",
       "    .dataframe tbody tr th {\n",
       "        vertical-align: top;\n",
       "    }\n",
       "\n",
       "    .dataframe thead th {\n",
       "        text-align: right;\n",
       "    }\n",
       "</style>\n",
       "<table border=\"1\" class=\"dataframe\">\n",
       "  <thead>\n",
       "    <tr style=\"text-align: right;\">\n",
       "      <th></th>\n",
       "      <th>Job Title</th>\n",
       "      <th>Job Location</th>\n",
       "      <th>Company Name</th>\n",
       "    </tr>\n",
       "  </thead>\n",
       "  <tbody>\n",
       "    <tr>\n",
       "      <th>1</th>\n",
       "      <td>Sr Data Scientist</td>\n",
       "      <td>Bangalore/Bengaluru</td>\n",
       "      <td>Siemens</td>\n",
       "    </tr>\n",
       "    <tr>\n",
       "      <th>2</th>\n",
       "      <td>Senior/Lead Data Scientist - (Revenue Management)</td>\n",
       "      <td>Bangalore/Bengaluru</td>\n",
       "      <td>o9 Solutions Management India Private Limited</td>\n",
       "    </tr>\n",
       "    <tr>\n",
       "      <th>3</th>\n",
       "      <td>Senior/Lead - Data Scientist (Supply Chain)</td>\n",
       "      <td>Bangalore/Bengaluru</td>\n",
       "      <td>o9 Solutions Management India Private Limited</td>\n",
       "    </tr>\n",
       "    <tr>\n",
       "      <th>4</th>\n",
       "      <td>Associate Data Scientist</td>\n",
       "      <td>Chennai, Bangalore/Bengaluru</td>\n",
       "      <td>Shell</td>\n",
       "    </tr>\n",
       "    <tr>\n",
       "      <th>5</th>\n",
       "      <td>Junior Programmer - Data Scientist</td>\n",
       "      <td>Bangalore/Bengaluru</td>\n",
       "      <td>GSK India</td>\n",
       "    </tr>\n",
       "    <tr>\n",
       "      <th>6</th>\n",
       "      <td>Lead/Senior Data Scientist (NLP)</td>\n",
       "      <td>Bangalore/Bengaluru\\n(WFH during Covid)</td>\n",
       "      <td>Samya.AI A FRACTAL Entity</td>\n",
       "    </tr>\n",
       "    <tr>\n",
       "      <th>7</th>\n",
       "      <td>Sr. Data Scientist</td>\n",
       "      <td>Bangalore/Bengaluru</td>\n",
       "      <td>Siemens</td>\n",
       "    </tr>\n",
       "    <tr>\n",
       "      <th>8</th>\n",
       "      <td>Lead Data Scientist</td>\n",
       "      <td>Bangalore/Bengaluru\\n(WFH during Covid)</td>\n",
       "      <td>Gadgeon Smart Systems</td>\n",
       "    </tr>\n",
       "    <tr>\n",
       "      <th>9</th>\n",
       "      <td>Senior Data Scientist</td>\n",
       "      <td>Bangalore/Bengaluru</td>\n",
       "      <td>Dell</td>\n",
       "    </tr>\n",
       "    <tr>\n",
       "      <th>10</th>\n",
       "      <td>Senior Data Scientist</td>\n",
       "      <td>Bangalore/Bengaluru</td>\n",
       "      <td>Dell</td>\n",
       "    </tr>\n",
       "  </tbody>\n",
       "</table>\n",
       "</div>"
      ],
      "text/plain": [
       "                                            Job Title  \\\n",
       "1                                   Sr Data Scientist   \n",
       "2   Senior/Lead Data Scientist - (Revenue Management)   \n",
       "3         Senior/Lead - Data Scientist (Supply Chain)   \n",
       "4                            Associate Data Scientist   \n",
       "5                  Junior Programmer - Data Scientist   \n",
       "6                    Lead/Senior Data Scientist (NLP)   \n",
       "7                                  Sr. Data Scientist   \n",
       "8                                 Lead Data Scientist   \n",
       "9                               Senior Data Scientist   \n",
       "10                              Senior Data Scientist   \n",
       "\n",
       "                               Job Location  \\\n",
       "1                       Bangalore/Bengaluru   \n",
       "2                       Bangalore/Bengaluru   \n",
       "3                       Bangalore/Bengaluru   \n",
       "4              Chennai, Bangalore/Bengaluru   \n",
       "5                       Bangalore/Bengaluru   \n",
       "6   Bangalore/Bengaluru\\n(WFH during Covid)   \n",
       "7                       Bangalore/Bengaluru   \n",
       "8   Bangalore/Bengaluru\\n(WFH during Covid)   \n",
       "9                       Bangalore/Bengaluru   \n",
       "10                      Bangalore/Bengaluru   \n",
       "\n",
       "                                     Company Name  \n",
       "1                                         Siemens  \n",
       "2   o9 Solutions Management India Private Limited  \n",
       "3   o9 Solutions Management India Private Limited  \n",
       "4                                           Shell  \n",
       "5                                       GSK India  \n",
       "6                       Samya.AI A FRACTAL Entity  \n",
       "7                                         Siemens  \n",
       "8                           Gadgeon Smart Systems  \n",
       "9                                            Dell  \n",
       "10                                           Dell  "
      ]
     },
     "execution_count": 28,
     "metadata": {},
     "output_type": "execute_result"
    }
   ],
   "source": [
    "jobs2 = pd.DataFrame()\n",
    "jobs2['Job Title'] = job_titles2\n",
    "jobs2['Job Location'] = location2\n",
    "jobs2['Company Name'] = comp_names2\n",
    "jobs2.index = jobs2.index + 1\n",
    "jobs2[0:10]"
   ]
  },
  {
   "cell_type": "markdown",
   "id": "e1a613f7",
   "metadata": {},
   "source": [
    "### Q3: In this question you have to scrape data using the filters available on the webpage as shown below:\n",
    "You have to use the location and salary filter.\n",
    "You have to scrape data for “Data Scientist” designation for first 10 job results.\n",
    "You have to scrape the job-title, job-location, company name, experience required. The location filter to be used is “Delhi/NCR”. The salary filter to be used is “3-6” lakhs\n",
    "\n",
    "The task will be done as shown in the below steps:\n",
    "1. first get the webpage https://www.naukri.com/\n",
    "2. Enter “Data Scientist” in “Skill, Designations, and Companies” field.\n",
    "3. Then click the search button.\n",
    "4. Then apply the location filter and salary filter by checking the respective boxes\n",
    "5. Then scrape the data for the first 10 jobs results you get.\n",
    "6. Finally create a dataframe of the scraped data."
   ]
  },
  {
   "cell_type": "code",
   "execution_count": 29,
   "id": "ca5fe5c0",
   "metadata": {},
   "outputs": [],
   "source": [
    "# Let's first connect to the web driver\n",
    "driver3 = webdriver.Chrome(r\"C:\\Users\\dell\\Downloads\\chromedriver_win32\\chromedriver.exe\")"
   ]
  },
  {
   "cell_type": "code",
   "execution_count": 30,
   "id": "7d278c02",
   "metadata": {},
   "outputs": [],
   "source": [
    "url3='https://www.naukri.com'\n",
    "driver3.get(url3)"
   ]
  },
  {
   "cell_type": "code",
   "execution_count": 31,
   "id": "68fcfd2d",
   "metadata": {},
   "outputs": [
    {
     "data": {
      "text/plain": [
       "<selenium.webdriver.remote.webelement.WebElement (session=\"f3ec456588c045cc73c89026128735a7\", element=\"11186b6a-92da-4411-97fa-7ae4fb9c8942\")>"
      ]
     },
     "execution_count": 31,
     "metadata": {},
     "output_type": "execute_result"
    }
   ],
   "source": [
    "search_jobs3 = driver3.find_element_by_class_name('suggestor-input')\n",
    "search_jobs3"
   ]
  },
  {
   "cell_type": "code",
   "execution_count": 32,
   "id": "3b947ef9",
   "metadata": {},
   "outputs": [],
   "source": [
    "# write on search bar \n",
    "search_jobs3.send_keys('Data Scientist')"
   ]
  },
  {
   "cell_type": "code",
   "execution_count": 33,
   "id": "d7bb3356",
   "metadata": {},
   "outputs": [
    {
     "data": {
      "text/plain": [
       "<selenium.webdriver.remote.webelement.WebElement (session=\"f3ec456588c045cc73c89026128735a7\", element=\"decae7d2-6c5a-4454-8597-f485645a918a\")>"
      ]
     },
     "execution_count": 33,
     "metadata": {},
     "output_type": "execute_result"
    }
   ],
   "source": [
    "search_loc3 = driver3.find_element_by_xpath('/html/body/div/div[2]/div[3]/div/div/div[3]/div/div/div/input')\n",
    "search_loc3"
   ]
  },
  {
   "cell_type": "code",
   "execution_count": 34,
   "id": "c7b0baac",
   "metadata": {},
   "outputs": [],
   "source": [
    "search_loc3.send_keys('Delhi/NCR')"
   ]
  },
  {
   "cell_type": "code",
   "execution_count": 35,
   "id": "e1250f7b",
   "metadata": {},
   "outputs": [
    {
     "data": {
      "text/plain": [
       "<selenium.webdriver.remote.webelement.WebElement (session=\"f3ec456588c045cc73c89026128735a7\", element=\"1aa66e09-9fd3-43e2-b0f2-986eb5256a1f\")>"
      ]
     },
     "execution_count": 35,
     "metadata": {},
     "output_type": "execute_result"
    }
   ],
   "source": [
    "search_btn3 = driver3.find_element_by_xpath('/html/body/div/div[2]/div[3]/div/div/div[6]')\n",
    "search_btn3"
   ]
  },
  {
   "cell_type": "code",
   "execution_count": 36,
   "id": "3e4a1464",
   "metadata": {},
   "outputs": [],
   "source": [
    "search_btn3.click()"
   ]
  },
  {
   "cell_type": "code",
   "execution_count": 37,
   "id": "6c31ce67",
   "metadata": {},
   "outputs": [
    {
     "data": {
      "text/plain": [
       "<selenium.webdriver.remote.webelement.WebElement (session=\"f3ec456588c045cc73c89026128735a7\", element=\"34680191-d1ad-481e-a08f-f88bc6566298\")>"
      ]
     },
     "execution_count": 37,
     "metadata": {},
     "output_type": "execute_result"
    }
   ],
   "source": [
    "salary_check3 = driver3.find_element_by_xpath('/html/body/div[1]/div[3]/div[2]/section[1]/div[2]/div[4]/div[2]/div[2]/label/i')\n",
    "salary_check3"
   ]
  },
  {
   "cell_type": "code",
   "execution_count": 38,
   "id": "9faecc40",
   "metadata": {},
   "outputs": [],
   "source": [
    "salary_check3.click()"
   ]
  },
  {
   "cell_type": "markdown",
   "id": "07bb4a3d",
   "metadata": {},
   "source": [
    "#### Extract Job Titles"
   ]
  },
  {
   "cell_type": "code",
   "execution_count": 39,
   "id": "df2784c5",
   "metadata": {},
   "outputs": [
    {
     "data": {
      "text/plain": [
       "['Data Scientist | Python | Machine Learning | Deep Learning- Fresher',\n",
       " 'Job Opportunity || Data Scientist || HCL Technologies']"
      ]
     },
     "execution_count": 39,
     "metadata": {},
     "output_type": "execute_result"
    }
   ],
   "source": [
    "# Let's extract all job titles\n",
    "title_tags3 = driver3.find_elements_by_xpath(\"//a[@class='title fw500 ellipsis']\")\n",
    "\n",
    "# Now the text of job_titles is inside the web element extracted above\n",
    "# so we will run a for loop to iterate over the tags and will extract text from title tags\n",
    "\n",
    "job_titles3 = []\n",
    "\n",
    "for i in title_tags3:\n",
    "    job_titles3.append(i.text)\n",
    "len(job_titles3)\n",
    "job_titles3[0:2]"
   ]
  },
  {
   "cell_type": "markdown",
   "id": "eb378377",
   "metadata": {},
   "source": [
    "#### Extract Job Locations"
   ]
  },
  {
   "cell_type": "code",
   "execution_count": 40,
   "id": "df0a08d3",
   "metadata": {},
   "outputs": [
    {
     "data": {
      "text/plain": [
       "['Noida, Gurgaon/Gurugram, Delhi / NCR', 'Delhi / NCR']"
      ]
     },
     "execution_count": 40,
     "metadata": {},
     "output_type": "execute_result"
    }
   ],
   "source": [
    "loc_tags3 = driver3.find_elements_by_xpath(\"//li[@class='fleft grey-text br2 placeHolderLi location']\")\n",
    "\n",
    "location3 = []\n",
    "\n",
    "for i in loc_tags3:\n",
    "    location3.append(i.text)\n",
    "len(location3)\n",
    "location3[0:2]"
   ]
  },
  {
   "cell_type": "markdown",
   "id": "ded4d647",
   "metadata": {},
   "source": [
    "#### Extract Company Names"
   ]
  },
  {
   "cell_type": "code",
   "execution_count": 41,
   "id": "bd765778",
   "metadata": {},
   "outputs": [
    {
     "data": {
      "text/plain": [
       "['Schlesinger Group', 'HCL']"
      ]
     },
     "execution_count": 41,
     "metadata": {},
     "output_type": "execute_result"
    }
   ],
   "source": [
    "# Let's extract all the job elements using company_tags\n",
    "company_tags3 = driver3.find_elements_by_xpath(\"//a[@class='subTitle ellipsis fleft']\")\n",
    "\n",
    "comp_names3 = []\n",
    "\n",
    "for i in company_tags3:\n",
    "    comp_names3.append(i.text)\n",
    "len(comp_names3)\n",
    "comp_names3[0:2]"
   ]
  },
  {
   "cell_type": "markdown",
   "id": "391e7390",
   "metadata": {},
   "source": [
    "#### Extract Experiences"
   ]
  },
  {
   "cell_type": "code",
   "execution_count": 42,
   "id": "a97bf605",
   "metadata": {},
   "outputs": [
    {
     "data": {
      "text/plain": [
       "['0-3 Yrs', '2-6 Yrs']"
      ]
     },
     "execution_count": 42,
     "metadata": {},
     "output_type": "execute_result"
    }
   ],
   "source": [
    "exp_tags3 = driver3.find_elements_by_xpath(\"//li[@class='fleft grey-text br2 placeHolderLi experience']\")\n",
    "\n",
    "experience3 = []\n",
    "\n",
    "for i in exp_tags3:\n",
    "    experience3.append(i.text)\n",
    "len(experience3)\n",
    "experience3[0:2]"
   ]
  },
  {
   "cell_type": "markdown",
   "id": "da62c8f7",
   "metadata": {},
   "source": [
    "#### Check Length"
   ]
  },
  {
   "cell_type": "code",
   "execution_count": 43,
   "id": "178744aa",
   "metadata": {},
   "outputs": [
    {
     "data": {
      "text/plain": [
       "(20, 20, 20, 20)"
      ]
     },
     "execution_count": 43,
     "metadata": {},
     "output_type": "execute_result"
    }
   ],
   "source": [
    "len(job_titles3),len(comp_names3),len(experience3),len(location3)"
   ]
  },
  {
   "cell_type": "markdown",
   "id": "46d5deb4",
   "metadata": {},
   "source": [
    "#### DataFrame"
   ]
  },
  {
   "cell_type": "code",
   "execution_count": 44,
   "id": "5ea88eda",
   "metadata": {},
   "outputs": [
    {
     "data": {
      "text/html": [
       "<div>\n",
       "<style scoped>\n",
       "    .dataframe tbody tr th:only-of-type {\n",
       "        vertical-align: middle;\n",
       "    }\n",
       "\n",
       "    .dataframe tbody tr th {\n",
       "        vertical-align: top;\n",
       "    }\n",
       "\n",
       "    .dataframe thead th {\n",
       "        text-align: right;\n",
       "    }\n",
       "</style>\n",
       "<table border=\"1\" class=\"dataframe\">\n",
       "  <thead>\n",
       "    <tr style=\"text-align: right;\">\n",
       "      <th></th>\n",
       "      <th>Job Title</th>\n",
       "      <th>Company Name</th>\n",
       "      <th>Experience</th>\n",
       "      <th>Job Location</th>\n",
       "    </tr>\n",
       "  </thead>\n",
       "  <tbody>\n",
       "    <tr>\n",
       "      <th>1</th>\n",
       "      <td>Data Scientist | Python | Machine Learning | D...</td>\n",
       "      <td>Schlesinger Group</td>\n",
       "      <td>0-3 Yrs</td>\n",
       "      <td>Noida, Gurgaon/Gurugram, Delhi / NCR</td>\n",
       "    </tr>\n",
       "    <tr>\n",
       "      <th>2</th>\n",
       "      <td>Job Opportunity || Data Scientist || HCL Techn...</td>\n",
       "      <td>HCL</td>\n",
       "      <td>2-6 Yrs</td>\n",
       "      <td>Delhi / NCR</td>\n",
       "    </tr>\n",
       "    <tr>\n",
       "      <th>3</th>\n",
       "      <td>Senior Data Scientist I</td>\n",
       "      <td>Delhivery</td>\n",
       "      <td>3-7 Yrs</td>\n",
       "      <td>Gurgaon/Gurugram</td>\n",
       "    </tr>\n",
       "    <tr>\n",
       "      <th>4</th>\n",
       "      <td>Openings For Jr/mid/Sr level data Scientists</td>\n",
       "      <td>Pluto seven business solutions (p) limited</td>\n",
       "      <td>2-6 Yrs</td>\n",
       "      <td>Kolkata, Hyderabad/Secunderabad, Pune, Ahmedab...</td>\n",
       "    </tr>\n",
       "    <tr>\n",
       "      <th>5</th>\n",
       "      <td>Data Scientist</td>\n",
       "      <td>T &amp; A Solutions</td>\n",
       "      <td>2-6 Yrs</td>\n",
       "      <td>Gurgaon/Gurugram</td>\n",
       "    </tr>\n",
       "    <tr>\n",
       "      <th>6</th>\n",
       "      <td>Urgent Hiring For Data Scientist</td>\n",
       "      <td>Mount Talent Consulting Private Limited</td>\n",
       "      <td>1-6 Yrs</td>\n",
       "      <td>Gurgaon/Gurugram, Bangalore/Bengaluru</td>\n",
       "    </tr>\n",
       "    <tr>\n",
       "      <th>7</th>\n",
       "      <td>Urgent Hiring For Data Scientist</td>\n",
       "      <td>Mount Talent Consulting Private Limited</td>\n",
       "      <td>1-6 Yrs</td>\n",
       "      <td>Gurgaon/Gurugram, Bangalore/Bengaluru</td>\n",
       "    </tr>\n",
       "    <tr>\n",
       "      <th>8</th>\n",
       "      <td>Data Scientist role</td>\n",
       "      <td>Mount Talent Consulting Private Limited</td>\n",
       "      <td>1-4 Yrs</td>\n",
       "      <td>Noida, Hyderabad/Secunderabad, Pune, Gurgaon/G...</td>\n",
       "    </tr>\n",
       "    <tr>\n",
       "      <th>9</th>\n",
       "      <td>Data Scientist role</td>\n",
       "      <td>Mount Talent Consulting Private Limited</td>\n",
       "      <td>1-3 Yrs</td>\n",
       "      <td>Noida, Hyderabad/Secunderabad, Pune, Gurgaon/G...</td>\n",
       "    </tr>\n",
       "    <tr>\n",
       "      <th>10</th>\n",
       "      <td>Data Scientist role</td>\n",
       "      <td>Mount Talent Consulting Private Limited</td>\n",
       "      <td>1-3 Yrs</td>\n",
       "      <td>Noida, Hyderabad/Secunderabad, Pune, Gurgaon/G...</td>\n",
       "    </tr>\n",
       "  </tbody>\n",
       "</table>\n",
       "</div>"
      ],
      "text/plain": [
       "                                            Job Title  \\\n",
       "1   Data Scientist | Python | Machine Learning | D...   \n",
       "2   Job Opportunity || Data Scientist || HCL Techn...   \n",
       "3                             Senior Data Scientist I   \n",
       "4        Openings For Jr/mid/Sr level data Scientists   \n",
       "5                                      Data Scientist   \n",
       "6                    Urgent Hiring For Data Scientist   \n",
       "7                    Urgent Hiring For Data Scientist   \n",
       "8                                 Data Scientist role   \n",
       "9                                 Data Scientist role   \n",
       "10                                Data Scientist role   \n",
       "\n",
       "                                  Company Name Experience  \\\n",
       "1                            Schlesinger Group    0-3 Yrs   \n",
       "2                                          HCL    2-6 Yrs   \n",
       "3                                    Delhivery    3-7 Yrs   \n",
       "4   Pluto seven business solutions (p) limited    2-6 Yrs   \n",
       "5                              T & A Solutions    2-6 Yrs   \n",
       "6      Mount Talent Consulting Private Limited    1-6 Yrs   \n",
       "7      Mount Talent Consulting Private Limited    1-6 Yrs   \n",
       "8      Mount Talent Consulting Private Limited    1-4 Yrs   \n",
       "9      Mount Talent Consulting Private Limited    1-3 Yrs   \n",
       "10     Mount Talent Consulting Private Limited    1-3 Yrs   \n",
       "\n",
       "                                         Job Location  \n",
       "1                Noida, Gurgaon/Gurugram, Delhi / NCR  \n",
       "2                                         Delhi / NCR  \n",
       "3                                    Gurgaon/Gurugram  \n",
       "4   Kolkata, Hyderabad/Secunderabad, Pune, Ahmedab...  \n",
       "5                                    Gurgaon/Gurugram  \n",
       "6               Gurgaon/Gurugram, Bangalore/Bengaluru  \n",
       "7               Gurgaon/Gurugram, Bangalore/Bengaluru  \n",
       "8   Noida, Hyderabad/Secunderabad, Pune, Gurgaon/G...  \n",
       "9   Noida, Hyderabad/Secunderabad, Pune, Gurgaon/G...  \n",
       "10  Noida, Hyderabad/Secunderabad, Pune, Gurgaon/G...  "
      ]
     },
     "execution_count": 44,
     "metadata": {},
     "output_type": "execute_result"
    }
   ],
   "source": [
    "jobs3 = pd.DataFrame()\n",
    "jobs3['Job Title'] = job_titles3\n",
    "jobs3['Company Name'] = comp_names3\n",
    "jobs3['Experience'] = experience3\n",
    "jobs3['Job Location'] = location3\n",
    "jobs3.index = jobs3.index + 1\n",
    "jobs3[0:10]"
   ]
  },
  {
   "cell_type": "markdown",
   "id": "d4d3a5b2",
   "metadata": {},
   "source": [
    "### Q4: Scrape data of first 100 sunglasses listings on flipkart.com. You have to scrape four attributes:\n",
    "1. Brand\n",
    "2. Product Description\n",
    "3. Price\n",
    "\n",
    "The attributes which you have to scrape is ticked marked in the below image.\n",
    "To scrape the data you have to go through following steps:\n",
    "1. Go to Flipkart webpage by url : https://www.flipkart.com/\n",
    "2. Enter “sunglasses” in the search field where “search for products, brands andmore” is written and click the search icon\n",
    "3. After that you will reach to the page having a lot of sunglasses. From this pageyou can scrap the required data as usual.\n",
    "4. After scraping data from the first page, go to the “Next” Button at the bottom ofthe page , then click on it.\n",
    "5. Now scrape data from this page as usual\n",
    "6. Repeat this until you get data for 100 sunglasses."
   ]
  },
  {
   "cell_type": "code",
   "execution_count": 45,
   "id": "aa5184ef",
   "metadata": {},
   "outputs": [],
   "source": [
    "# Let's first connect to the web driver\n",
    "driver4 = webdriver.Chrome(r\"C:\\Users\\dell\\Downloads\\chromedriver_win32\\chromedriver.exe\")"
   ]
  },
  {
   "cell_type": "code",
   "execution_count": 46,
   "id": "d11fc90d",
   "metadata": {},
   "outputs": [],
   "source": [
    "url4='https://www.flipkart.com/'\n",
    "driver4.get(url4)"
   ]
  },
  {
   "cell_type": "code",
   "execution_count": 47,
   "id": "2a77448b",
   "metadata": {},
   "outputs": [
    {
     "data": {
      "text/plain": [
       "<selenium.webdriver.remote.webelement.WebElement (session=\"8ec9be1b28fbd580d14f744ae7687c25\", element=\"6c1211e6-a276-4a52-bfff-5c330bd8579d\")>"
      ]
     },
     "execution_count": 47,
     "metadata": {},
     "output_type": "execute_result"
    }
   ],
   "source": [
    "search_bar4 = driver4.find_element_by_xpath('/html/body/div[1]/div/div[1]/div[1]/div[2]/div[2]/form/div/div/input')\n",
    "search_bar4"
   ]
  },
  {
   "cell_type": "code",
   "execution_count": 48,
   "id": "f33eec13",
   "metadata": {},
   "outputs": [],
   "source": [
    "# write on search bar \n",
    "search_bar4.send_keys('sunglasses')"
   ]
  },
  {
   "cell_type": "code",
   "execution_count": 49,
   "id": "575ef356",
   "metadata": {},
   "outputs": [
    {
     "data": {
      "text/plain": [
       "<selenium.webdriver.remote.webelement.WebElement (session=\"8ec9be1b28fbd580d14f744ae7687c25\", element=\"b3fbec5d-9c0d-436a-851a-2ce1ec2a088b\")>"
      ]
     },
     "execution_count": 49,
     "metadata": {},
     "output_type": "execute_result"
    }
   ],
   "source": [
    "search_btn4 = driver4.find_element_by_class_name(\"_34RNph\")\n",
    "search_btn4"
   ]
  },
  {
   "cell_type": "code",
   "execution_count": 50,
   "id": "5d2b3c12",
   "metadata": {},
   "outputs": [],
   "source": [
    "search_btn4.click()"
   ]
  },
  {
   "cell_type": "markdown",
   "id": "bf88bd52",
   "metadata": {},
   "source": [
    "#### Extract Brand, Description and Price"
   ]
  },
  {
   "cell_type": "code",
   "execution_count": 51,
   "id": "09816665",
   "metadata": {},
   "outputs": [],
   "source": [
    "#creating the empty list\n",
    "brand4=[]\n",
    "description4=[]\n",
    "price4=[]\n",
    "\n",
    "time.sleep(5)\n",
    "\n",
    "for page4 in range(0,3):\n",
    "    brands4=driver4.find_elements_by_class_name('_2WkVRV')\n",
    "    for i in brands4:\n",
    "        brand4.append(i.text)\n",
    "    desc4=driver4.find_elements_by_xpath('//a[@class=\"IRpwTa\"]')\n",
    "    for i in desc4:\n",
    "        description4.append(i.text)\n",
    "    prices4=driver4.find_elements_by_xpath(\"//div[@class='_30jeq3']\")\n",
    "    for i in prices4:\n",
    "        price4.append(i.text)\n",
    "    next_button4=driver4.find_elements_by_xpath(\"//a[@class='_1LKTO3']\")\n",
    "    try:\n",
    "        driver4.get(next_button4[1].get_attribute('href'))\n",
    "    except:\n",
    "        driver4.get(next_button4[0].get_attribute('href'))"
   ]
  },
  {
   "cell_type": "markdown",
   "id": "2ad510d2",
   "metadata": {},
   "source": [
    "### DataFrame"
   ]
  },
  {
   "cell_type": "code",
   "execution_count": 52,
   "id": "0827ec9b",
   "metadata": {
    "scrolled": false
   },
   "outputs": [
    {
     "data": {
      "text/html": [
       "<div>\n",
       "<style scoped>\n",
       "    .dataframe tbody tr th:only-of-type {\n",
       "        vertical-align: middle;\n",
       "    }\n",
       "\n",
       "    .dataframe tbody tr th {\n",
       "        vertical-align: top;\n",
       "    }\n",
       "\n",
       "    .dataframe thead th {\n",
       "        text-align: right;\n",
       "    }\n",
       "</style>\n",
       "<table border=\"1\" class=\"dataframe\">\n",
       "  <thead>\n",
       "    <tr style=\"text-align: right;\">\n",
       "      <th></th>\n",
       "      <th>Brand</th>\n",
       "      <th>Description</th>\n",
       "      <th>Price</th>\n",
       "    </tr>\n",
       "  </thead>\n",
       "  <tbody>\n",
       "    <tr>\n",
       "      <th>1</th>\n",
       "      <td>ROZZETTA CRAFT</td>\n",
       "      <td>UV Protection, Gradient Retro Square Sunglasse...</td>\n",
       "      <td>₹349</td>\n",
       "    </tr>\n",
       "    <tr>\n",
       "      <th>2</th>\n",
       "      <td>ROZZETTA CRAFT</td>\n",
       "      <td>UV Protection, Gradient Retro Square Sunglasse...</td>\n",
       "      <td>₹426</td>\n",
       "    </tr>\n",
       "    <tr>\n",
       "      <th>3</th>\n",
       "      <td>PIRASO</td>\n",
       "      <td>UV Protection Aviator Sunglasses (54)</td>\n",
       "      <td>₹200</td>\n",
       "    </tr>\n",
       "    <tr>\n",
       "      <th>4</th>\n",
       "      <td>Elligator</td>\n",
       "      <td>UV Protection Round Sunglasses (54)</td>\n",
       "      <td>₹248</td>\n",
       "    </tr>\n",
       "    <tr>\n",
       "      <th>5</th>\n",
       "      <td>SRPM</td>\n",
       "      <td>UV Protection Wayfarer Sunglasses (56)</td>\n",
       "      <td>₹198</td>\n",
       "    </tr>\n",
       "    <tr>\n",
       "      <th>...</th>\n",
       "      <td>...</td>\n",
       "      <td>...</td>\n",
       "      <td>...</td>\n",
       "    </tr>\n",
       "    <tr>\n",
       "      <th>96</th>\n",
       "      <td>ROYAL SON</td>\n",
       "      <td>Polarized Retro Square Sunglasses (59)</td>\n",
       "      <td>₹664</td>\n",
       "    </tr>\n",
       "    <tr>\n",
       "      <th>97</th>\n",
       "      <td>kingsunglasses</td>\n",
       "      <td>Mirrored, UV Protection Aviator Sunglasses (56)</td>\n",
       "      <td>₹211</td>\n",
       "    </tr>\n",
       "    <tr>\n",
       "      <th>98</th>\n",
       "      <td>Elligator</td>\n",
       "      <td>UV Protection, Riding Glasses Rectangular, Ret...</td>\n",
       "      <td>₹305</td>\n",
       "    </tr>\n",
       "    <tr>\n",
       "      <th>99</th>\n",
       "      <td>Urbanic</td>\n",
       "      <td>Others Retro Square Sunglasses (Free Size)</td>\n",
       "      <td>₹499</td>\n",
       "    </tr>\n",
       "    <tr>\n",
       "      <th>100</th>\n",
       "      <td>VINCENT CHASE</td>\n",
       "      <td>by Lenskart UV Protection Aviator Sunglasses (...</td>\n",
       "      <td>₹999</td>\n",
       "    </tr>\n",
       "  </tbody>\n",
       "</table>\n",
       "<p>100 rows × 3 columns</p>\n",
       "</div>"
      ],
      "text/plain": [
       "              Brand                                        Description Price\n",
       "1    ROZZETTA CRAFT  UV Protection, Gradient Retro Square Sunglasse...  ₹349\n",
       "2    ROZZETTA CRAFT  UV Protection, Gradient Retro Square Sunglasse...  ₹426\n",
       "3            PIRASO              UV Protection Aviator Sunglasses (54)  ₹200\n",
       "4         Elligator                UV Protection Round Sunglasses (54)  ₹248\n",
       "5              SRPM             UV Protection Wayfarer Sunglasses (56)  ₹198\n",
       "..              ...                                                ...   ...\n",
       "96        ROYAL SON             Polarized Retro Square Sunglasses (59)  ₹664\n",
       "97   kingsunglasses    Mirrored, UV Protection Aviator Sunglasses (56)  ₹211\n",
       "98        Elligator  UV Protection, Riding Glasses Rectangular, Ret...  ₹305\n",
       "99          Urbanic         Others Retro Square Sunglasses (Free Size)  ₹499\n",
       "100   VINCENT CHASE  by Lenskart UV Protection Aviator Sunglasses (...  ₹999\n",
       "\n",
       "[100 rows x 3 columns]"
      ]
     },
     "execution_count": 52,
     "metadata": {},
     "output_type": "execute_result"
    }
   ],
   "source": [
    "df4=pd.DataFrame({'Brand':brand4,\n",
    "                'Description':description4,\n",
    "                'Price':price4})\n",
    "df4.index = df4.index + 1\n",
    "df4[0:100]"
   ]
  },
  {
   "cell_type": "markdown",
   "id": "3e024281",
   "metadata": {},
   "source": [
    "## Q5: Scrape 100 reviews data from flipkart.com for iphone11 phone. You have to go the link: https://www.flipkart.com/apple-iphone-11-black-64-gb-includes- earpods-power- adapter/p/itm0f37c2240b217?pid=MOBFKCTSVZAXUHGR&lid=LSTMOBFKC TSVZAXUHGREPBFGI&marketplace.\n",
    "When you will open the above link you will reach to the below shown webpage.\n",
    "As shown in the above page you have to scrape the tick marked attributes.These are:\n",
    "1. Rating\n",
    "2. Review summary\n",
    "3. Full review\n",
    "4. You have to scrape this data for first 100 reviews."
   ]
  },
  {
   "cell_type": "code",
   "execution_count": 53,
   "id": "c12bc29d",
   "metadata": {},
   "outputs": [],
   "source": [
    "# Let's first connect to the web driver\n",
    "driver5 = webdriver.Chrome(r\"C:\\Users\\dell\\Downloads\\chromedriver_win32\\chromedriver.exe\")"
   ]
  },
  {
   "cell_type": "code",
   "execution_count": 54,
   "id": "a6a3739d",
   "metadata": {},
   "outputs": [],
   "source": [
    "url5='https://www.flipkart.com/apple-iphone-11-black-64-gb-includes-earpods-power-adapter/product-reviews/itm0f37c2240b217?pid=MOBFKCTSVZAXUHGR&lid=LSTMOBFKCTSVZAXUHGREPBFGI&marketplace=FLIPKART'\n",
    "driver5.get(url5)"
   ]
  },
  {
   "cell_type": "markdown",
   "id": "173a0c57",
   "metadata": {},
   "source": [
    "### Extract url, short rewiew, full review and stars"
   ]
  },
  {
   "cell_type": "code",
   "execution_count": 55,
   "id": "965b72b2",
   "metadata": {},
   "outputs": [],
   "source": [
    "url5=[]\n",
    "sh_review5=[]\n",
    "full_review5=[]\n",
    "stars5=[]\n",
    "\n",
    "time.sleep(5)\n",
    "\n",
    "#scraping 10 pages url\n",
    "url01 = driver5.find_elements_by_xpath(\"//a[@class='ge-49M _2Kfbh8']\")\n",
    "for i in url01:\n",
    "    url5.append(i.get_attribute('href'))\n",
    "url02 = driver5.find_elements_by_xpath(\"//a[@class='ge-49M']\")\n",
    "for i in url02:\n",
    "    url5.append(i.get_attribute('href'))\n",
    "    time.sleep(5)\n",
    "\n",
    "\n",
    "for i in url5:\n",
    "    driver5.get(i)\n",
    "    #scrapping the number of stars\n",
    "    for j in driver5.find_elements_by_xpath(\"//div[@class='col _2wzgFH K0kLPL']/div[1]/div[1]\"):\n",
    "        stars5.append(j.text)\n",
    "    #scrapping the short review\n",
    "    for k in driver5.find_elements_by_xpath(\"//p[@class='_2-N8zT']\"):\n",
    "        sh_review5.append(k.text)\n",
    "    #scrapping the complete review\n",
    "    for l in driver5.find_elements_by_xpath(\"//div[@class='t-ZTKy']/div/div\"):\n",
    "        full_review5.append(l.text)"
   ]
  },
  {
   "cell_type": "markdown",
   "id": "26cfac78",
   "metadata": {},
   "source": [
    "#### Check Length"
   ]
  },
  {
   "cell_type": "code",
   "execution_count": 56,
   "id": "0269078e",
   "metadata": {},
   "outputs": [
    {
     "data": {
      "text/plain": [
       "(100, 100, 100)"
      ]
     },
     "execution_count": 56,
     "metadata": {},
     "output_type": "execute_result"
    }
   ],
   "source": [
    "len(sh_review5),len(full_review5),len(stars5)"
   ]
  },
  {
   "cell_type": "markdown",
   "id": "b4e5847f",
   "metadata": {},
   "source": [
    "### DataFrame"
   ]
  },
  {
   "cell_type": "code",
   "execution_count": 57,
   "id": "5b671a78",
   "metadata": {
    "scrolled": true
   },
   "outputs": [
    {
     "data": {
      "text/html": [
       "<div>\n",
       "<style scoped>\n",
       "    .dataframe tbody tr th:only-of-type {\n",
       "        vertical-align: middle;\n",
       "    }\n",
       "\n",
       "    .dataframe tbody tr th {\n",
       "        vertical-align: top;\n",
       "    }\n",
       "\n",
       "    .dataframe thead th {\n",
       "        text-align: right;\n",
       "    }\n",
       "</style>\n",
       "<table border=\"1\" class=\"dataframe\">\n",
       "  <thead>\n",
       "    <tr style=\"text-align: right;\">\n",
       "      <th></th>\n",
       "      <th>Short Review</th>\n",
       "      <th>Full Review</th>\n",
       "      <th>Number of Stars</th>\n",
       "    </tr>\n",
       "  </thead>\n",
       "  <tbody>\n",
       "    <tr>\n",
       "      <th>1</th>\n",
       "      <td>Brilliant</td>\n",
       "      <td>The Best Phone for the Money\\n\\nThe iPhone 11 ...</td>\n",
       "      <td>5</td>\n",
       "    </tr>\n",
       "    <tr>\n",
       "      <th>2</th>\n",
       "      <td>Simply awesome</td>\n",
       "      <td>Really satisfied with the Product I received.....</td>\n",
       "      <td>5</td>\n",
       "    </tr>\n",
       "    <tr>\n",
       "      <th>3</th>\n",
       "      <td>Perfect product!</td>\n",
       "      <td>Amazing phone with great cameras and better ba...</td>\n",
       "      <td>5</td>\n",
       "    </tr>\n",
       "    <tr>\n",
       "      <th>4</th>\n",
       "      <td>Best in the market!</td>\n",
       "      <td>Great iPhone very snappy experience as apple k...</td>\n",
       "      <td>5</td>\n",
       "    </tr>\n",
       "    <tr>\n",
       "      <th>5</th>\n",
       "      <td>Worth every penny</td>\n",
       "      <td>Previously I was using one plus 3t it was a gr...</td>\n",
       "      <td>5</td>\n",
       "    </tr>\n",
       "    <tr>\n",
       "      <th>...</th>\n",
       "      <td>...</td>\n",
       "      <td>...</td>\n",
       "      <td>...</td>\n",
       "    </tr>\n",
       "    <tr>\n",
       "      <th>96</th>\n",
       "      <td>Terrific purchase</td>\n",
       "      <td>I use a Note10+ and have been using both iOS a...</td>\n",
       "      <td>5</td>\n",
       "    </tr>\n",
       "    <tr>\n",
       "      <th>97</th>\n",
       "      <td>Awesome</td>\n",
       "      <td>The phone is completely good\\nAs far as camera...</td>\n",
       "      <td>5</td>\n",
       "    </tr>\n",
       "    <tr>\n",
       "      <th>98</th>\n",
       "      <td>Decent product</td>\n",
       "      <td>Everything u ll like it when u use this iPhone...</td>\n",
       "      <td>3</td>\n",
       "    </tr>\n",
       "    <tr>\n",
       "      <th>99</th>\n",
       "      <td>Mind-blowing purchase</td>\n",
       "      <td>Excellent camera 📸 And Display touching very N...</td>\n",
       "      <td>5</td>\n",
       "    </tr>\n",
       "    <tr>\n",
       "      <th>100</th>\n",
       "      <td>Wonderful</td>\n",
       "      <td>Nice value for money good and best price I pho...</td>\n",
       "      <td>5</td>\n",
       "    </tr>\n",
       "  </tbody>\n",
       "</table>\n",
       "<p>100 rows × 3 columns</p>\n",
       "</div>"
      ],
      "text/plain": [
       "              Short Review                                        Full Review  \\\n",
       "1                Brilliant  The Best Phone for the Money\\n\\nThe iPhone 11 ...   \n",
       "2           Simply awesome  Really satisfied with the Product I received.....   \n",
       "3         Perfect product!  Amazing phone with great cameras and better ba...   \n",
       "4      Best in the market!  Great iPhone very snappy experience as apple k...   \n",
       "5        Worth every penny  Previously I was using one plus 3t it was a gr...   \n",
       "..                     ...                                                ...   \n",
       "96       Terrific purchase  I use a Note10+ and have been using both iOS a...   \n",
       "97                 Awesome  The phone is completely good\\nAs far as camera...   \n",
       "98          Decent product  Everything u ll like it when u use this iPhone...   \n",
       "99   Mind-blowing purchase  Excellent camera 📸 And Display touching very N...   \n",
       "100              Wonderful  Nice value for money good and best price I pho...   \n",
       "\n",
       "    Number of Stars  \n",
       "1                 5  \n",
       "2                 5  \n",
       "3                 5  \n",
       "4                 5  \n",
       "5                 5  \n",
       "..              ...  \n",
       "96                5  \n",
       "97                5  \n",
       "98                3  \n",
       "99                5  \n",
       "100               5  \n",
       "\n",
       "[100 rows x 3 columns]"
      ]
     },
     "execution_count": 57,
     "metadata": {},
     "output_type": "execute_result"
    }
   ],
   "source": [
    "df5=pd.DataFrame({'Short Review': sh_review5,\n",
    "               'Full Review': full_review5,\n",
    "               'Number of Stars': stars5})\n",
    "df5.index = df5.index + 1\n",
    "df5"
   ]
  },
  {
   "cell_type": "markdown",
   "id": "18c72d62",
   "metadata": {},
   "source": [
    "## Q6: Scrape data for first 100 sneakers you find when you visit flipkart.com and search for “sneakers” in the search field.\n",
    "You have to scrape 4 attributes of each sneaker:\n",
    "1. Brand\n",
    "2. Product Description\n",
    "3. Price\n",
    "As shown in the below image, you have to scrape the tick marked attributes"
   ]
  },
  {
   "cell_type": "code",
   "execution_count": 58,
   "id": "fd56c0f3",
   "metadata": {},
   "outputs": [],
   "source": [
    "# Let's first connect to the web driver\n",
    "driver6 = webdriver.Chrome(r\"C:\\Users\\dell\\Downloads\\chromedriver_win32\\chromedriver.exe\")"
   ]
  },
  {
   "cell_type": "code",
   "execution_count": 59,
   "id": "cc2dffe2",
   "metadata": {},
   "outputs": [],
   "source": [
    "url6='https://www.flipkart.com'\n",
    "driver6.get(url6)"
   ]
  },
  {
   "cell_type": "code",
   "execution_count": 60,
   "id": "48a8f76c",
   "metadata": {},
   "outputs": [
    {
     "data": {
      "text/plain": [
       "<selenium.webdriver.remote.webelement.WebElement (session=\"da711251a8d4e91c76ae26f4da13bd1e\", element=\"c29b553a-afcb-4181-93ad-d04fbe1de82a\")>"
      ]
     },
     "execution_count": 60,
     "metadata": {},
     "output_type": "execute_result"
    }
   ],
   "source": [
    "search_bar6=driver6.find_element_by_class_name(\"_3704LK\")\n",
    "search_bar6"
   ]
  },
  {
   "cell_type": "code",
   "execution_count": 61,
   "id": "c9a9d15b",
   "metadata": {},
   "outputs": [],
   "source": [
    "search_bar6.send_keys('sneakers')"
   ]
  },
  {
   "cell_type": "code",
   "execution_count": 62,
   "id": "641d0616",
   "metadata": {},
   "outputs": [],
   "source": [
    "search_btn6=driver6.find_element_by_class_name('L0Z3Pu')\n",
    "search_btn6.click()"
   ]
  },
  {
   "cell_type": "markdown",
   "id": "36f012be",
   "metadata": {},
   "source": [
    "### Extract brand, description and price"
   ]
  },
  {
   "cell_type": "code",
   "execution_count": 63,
   "id": "b77f42c0",
   "metadata": {},
   "outputs": [],
   "source": [
    "brand6=[]\n",
    "description6=[]\n",
    "price6=[]\n",
    "\n",
    "for page6 in range(0,4):\n",
    "    brands6=driver6.find_elements_by_class_name('_2WkVRV')\n",
    "    for i in brands6:\n",
    "        brand6.append(i.text)\n",
    "    prices6=driver6.find_elements_by_xpath(\"//div[@class='_30jeq3']\")\n",
    "    for i in prices6:\n",
    "        price6.append(i.text)\n",
    "    desc6=driver6.find_elements_by_xpath('//a[@class=\"IRpwTa\"]')\n",
    "    for i in desc6:\n",
    "        description6.append(i.text)\n",
    "        \n",
    "    next_btn6=driver6.find_elements_by_xpath(\"//a[@class='_1LKTO3']\")\n",
    "    try:\n",
    "        driver6.get(next_btn6[1].get_attribute('href'))\n",
    "    except:\n",
    "        driver6.get(next_btn6[0].get_attribute('href')) "
   ]
  },
  {
   "cell_type": "markdown",
   "id": "a1762df6",
   "metadata": {},
   "source": [
    "#### Check Length"
   ]
  },
  {
   "cell_type": "code",
   "execution_count": 64,
   "id": "e3b84ed0",
   "metadata": {},
   "outputs": [
    {
     "data": {
      "text/plain": [
       "(160, 132, 160)"
      ]
     },
     "execution_count": 64,
     "metadata": {},
     "output_type": "execute_result"
    }
   ],
   "source": [
    "len(brand6), len(description6), len(price6)"
   ]
  },
  {
   "cell_type": "code",
   "execution_count": 65,
   "id": "558f5b67",
   "metadata": {},
   "outputs": [
    {
     "data": {
      "text/plain": [
       "(100, 100, 100)"
      ]
     },
     "execution_count": 65,
     "metadata": {},
     "output_type": "execute_result"
    }
   ],
   "source": [
    "a=brand6[0:100]\n",
    "b=description6[0:100]\n",
    "c=price6[0:100]\n",
    "\n",
    "len(a),len(b),len(c)"
   ]
  },
  {
   "cell_type": "markdown",
   "id": "227d1153",
   "metadata": {},
   "source": [
    "#### DataFrame"
   ]
  },
  {
   "cell_type": "code",
   "execution_count": 66,
   "id": "1bbda3b4",
   "metadata": {},
   "outputs": [
    {
     "data": {
      "text/html": [
       "<div>\n",
       "<style scoped>\n",
       "    .dataframe tbody tr th:only-of-type {\n",
       "        vertical-align: middle;\n",
       "    }\n",
       "\n",
       "    .dataframe tbody tr th {\n",
       "        vertical-align: top;\n",
       "    }\n",
       "\n",
       "    .dataframe thead th {\n",
       "        text-align: right;\n",
       "    }\n",
       "</style>\n",
       "<table border=\"1\" class=\"dataframe\">\n",
       "  <thead>\n",
       "    <tr style=\"text-align: right;\">\n",
       "      <th></th>\n",
       "      <th>Brand</th>\n",
       "      <th>Description</th>\n",
       "      <th>Price</th>\n",
       "    </tr>\n",
       "  </thead>\n",
       "  <tbody>\n",
       "    <tr>\n",
       "      <th>1</th>\n",
       "      <td>Echor</td>\n",
       "      <td>Men's Sneakers Fashion Lightweight Running Sho...</td>\n",
       "      <td>₹569</td>\n",
       "    </tr>\n",
       "    <tr>\n",
       "      <th>2</th>\n",
       "      <td>RapidBox</td>\n",
       "      <td>Sneakers For Men</td>\n",
       "      <td>₹620</td>\n",
       "    </tr>\n",
       "    <tr>\n",
       "      <th>3</th>\n",
       "      <td>URBANBOX</td>\n",
       "      <td>Luxury Fashionable casual sneaker shoes Sneake...</td>\n",
       "      <td>₹220</td>\n",
       "    </tr>\n",
       "    <tr>\n",
       "      <th>4</th>\n",
       "      <td>Magnolia</td>\n",
       "      <td>Sneakers For Men</td>\n",
       "      <td>₹398</td>\n",
       "    </tr>\n",
       "    <tr>\n",
       "      <th>5</th>\n",
       "      <td>luxury fashion</td>\n",
       "      <td>men's black sneakers lace-up trendy casual Sne...</td>\n",
       "      <td>₹379</td>\n",
       "    </tr>\n",
       "    <tr>\n",
       "      <th>...</th>\n",
       "      <td>...</td>\n",
       "      <td>...</td>\n",
       "      <td>...</td>\n",
       "    </tr>\n",
       "    <tr>\n",
       "      <th>96</th>\n",
       "      <td>Kirjak</td>\n",
       "      <td>Sneakers For Men</td>\n",
       "      <td>₹472</td>\n",
       "    </tr>\n",
       "    <tr>\n",
       "      <th>97</th>\n",
       "      <td>Robbie jones</td>\n",
       "      <td>Sneakers For Men</td>\n",
       "      <td>₹449</td>\n",
       "    </tr>\n",
       "    <tr>\n",
       "      <th>98</th>\n",
       "      <td>RODDICK SHOES</td>\n",
       "      <td>Combo Pack of 4 Casual Shoes Sneakers For Men</td>\n",
       "      <td>₹474</td>\n",
       "    </tr>\n",
       "    <tr>\n",
       "      <th>99</th>\n",
       "      <td>FORMIC</td>\n",
       "      <td>Sneakers For Men</td>\n",
       "      <td>₹241</td>\n",
       "    </tr>\n",
       "    <tr>\n",
       "      <th>100</th>\n",
       "      <td>Deals4you</td>\n",
       "      <td>Sneakers For Men</td>\n",
       "      <td>₹649</td>\n",
       "    </tr>\n",
       "  </tbody>\n",
       "</table>\n",
       "<p>100 rows × 3 columns</p>\n",
       "</div>"
      ],
      "text/plain": [
       "              Brand                                        Description Price\n",
       "1             Echor  Men's Sneakers Fashion Lightweight Running Sho...  ₹569\n",
       "2          RapidBox                                   Sneakers For Men  ₹620\n",
       "3          URBANBOX  Luxury Fashionable casual sneaker shoes Sneake...  ₹220\n",
       "4          Magnolia                                   Sneakers For Men  ₹398\n",
       "5    luxury fashion  men's black sneakers lace-up trendy casual Sne...  ₹379\n",
       "..              ...                                                ...   ...\n",
       "96           Kirjak                                   Sneakers For Men  ₹472\n",
       "97     Robbie jones                                   Sneakers For Men  ₹449\n",
       "98    RODDICK SHOES      Combo Pack of 4 Casual Shoes Sneakers For Men  ₹474\n",
       "99           FORMIC                                   Sneakers For Men  ₹241\n",
       "100       Deals4you                                   Sneakers For Men  ₹649\n",
       "\n",
       "[100 rows x 3 columns]"
      ]
     },
     "execution_count": 66,
     "metadata": {},
     "output_type": "execute_result"
    }
   ],
   "source": [
    "df6=pd.DataFrame({'Brand':a,\n",
    "                'Description':b,\n",
    "                'Price':c})\n",
    "df6.index = df6.index + 1\n",
    "df6"
   ]
  },
  {
   "cell_type": "markdown",
   "id": "a6bdd1c5",
   "metadata": {},
   "source": [
    "## Q7: Go to the link - https://www.myntra.com/shoes\n",
    "### Set Price filter to “Rs. 7149 to Rs. 14099 ” , Color filter to “Black”, as shown inthe below image and then scrape First 100 shoes data you get. The data should include “Brand” of the shoes , Short Shoe description, price of the shoe as shown in the below image."
   ]
  },
  {
   "cell_type": "code",
   "execution_count": 67,
   "id": "3f0f85db",
   "metadata": {},
   "outputs": [],
   "source": [
    "# Let's first connect to the web driver\n",
    "driver7 = webdriver.Chrome(r\"C:\\Users\\dell\\Downloads\\chromedriver_win32\\chromedriver.exe\")"
   ]
  },
  {
   "cell_type": "code",
   "execution_count": 68,
   "id": "ed8b821b",
   "metadata": {},
   "outputs": [],
   "source": [
    "url7='https://www.myntra.com/shoes'\n",
    "driver7.get(url7)"
   ]
  },
  {
   "cell_type": "code",
   "execution_count": 69,
   "id": "a991ec1b",
   "metadata": {},
   "outputs": [
    {
     "data": {
      "text/plain": [
       "<selenium.webdriver.remote.webelement.WebElement (session=\"708f894a5071284120f54800801c2201\", element=\"d6294697-0c2c-42f3-80b3-def635edfc8e\")>"
      ]
     },
     "execution_count": 69,
     "metadata": {},
     "output_type": "execute_result"
    }
   ],
   "source": [
    "price_btn7 = driver7.find_element_by_xpath(\"/html/body/div[2]/div/div[1]/main/div[3]/div[1]/section/div/div[5]/ul/li[2]/label/div\")\n",
    "price_btn7"
   ]
  },
  {
   "cell_type": "code",
   "execution_count": 70,
   "id": "aaa32c55",
   "metadata": {},
   "outputs": [],
   "source": [
    "price_btn7.click()"
   ]
  },
  {
   "cell_type": "code",
   "execution_count": 71,
   "id": "fab968e1",
   "metadata": {},
   "outputs": [
    {
     "data": {
      "text/plain": [
       "<selenium.webdriver.remote.webelement.WebElement (session=\"708f894a5071284120f54800801c2201\", element=\"8fb76449-34c9-4eff-93be-38e3cf3ca1b3\")>"
      ]
     },
     "execution_count": 71,
     "metadata": {},
     "output_type": "execute_result"
    }
   ],
   "source": [
    "black_btn7 = driver7.find_element_by_xpath(\"/html/body/div[2]/div/div[1]/main/div[3]/div[1]/section/div/div[6]/ul/li[1]/label/div\")\n",
    "black_btn7"
   ]
  },
  {
   "cell_type": "code",
   "execution_count": 72,
   "id": "40d62ad8",
   "metadata": {},
   "outputs": [],
   "source": [
    "black_btn7.click()"
   ]
  },
  {
   "cell_type": "markdown",
   "id": "f5ecab4b",
   "metadata": {},
   "source": [
    "### Extract brand, description and price"
   ]
  },
  {
   "cell_type": "code",
   "execution_count": 73,
   "id": "b190f222",
   "metadata": {},
   "outputs": [],
   "source": [
    "brand7=[]\n",
    "description7=[]\n",
    "price7=[]\n",
    "\n",
    "for page7 in range(0,4):\n",
    "    brands7=driver7.find_elements_by_xpath(\"//div[@class='product-productMetaInfo']/h3\")\n",
    "    for i in brands7:\n",
    "        brand7.append(i.text)\n",
    "    prices7=driver7.find_elements_by_xpath(\"//div[@class='product-price']\")\n",
    "    for i in prices7:\n",
    "        price7.append(i.text)\n",
    "    desc7=driver7.find_elements_by_xpath(\"//div[@class='product-productMetaInfo']/h4\") \n",
    "    for i in desc7:\n",
    "        description7.append(i.text)\n",
    "        \n",
    "    next_btn7=driver7.find_elements_by_xpath(\"//ul[@class='pagination-container']/li/a\") \n",
    "    try:\n",
    "        driver7.get(next_btn7[1].get_attribute('href'))\n",
    "    except:\n",
    "        driver7.get(next_btn7[0].get_attribute('href')) "
   ]
  },
  {
   "cell_type": "markdown",
   "id": "8d6a5573",
   "metadata": {},
   "source": [
    "#### Check Length"
   ]
  },
  {
   "cell_type": "code",
   "execution_count": 74,
   "id": "b337a214",
   "metadata": {},
   "outputs": [
    {
     "data": {
      "text/plain": [
       "(200, 400, 200)"
      ]
     },
     "execution_count": 74,
     "metadata": {},
     "output_type": "execute_result"
    }
   ],
   "source": [
    "len(brand7), len(description7), len(price7)"
   ]
  },
  {
   "cell_type": "code",
   "execution_count": 75,
   "id": "0166a19f",
   "metadata": {},
   "outputs": [
    {
     "data": {
      "text/plain": [
       "(100, 100, 100)"
      ]
     },
     "execution_count": 75,
     "metadata": {},
     "output_type": "execute_result"
    }
   ],
   "source": [
    "a=brand7[0:100]\n",
    "b=description7[0:100]\n",
    "c=price7[0:100]\n",
    "\n",
    "len(a),len(b),len(c)"
   ]
  },
  {
   "cell_type": "markdown",
   "id": "709c4a0c",
   "metadata": {},
   "source": [
    "#### DataFrame"
   ]
  },
  {
   "cell_type": "code",
   "execution_count": 76,
   "id": "16c88938",
   "metadata": {},
   "outputs": [
    {
     "data": {
      "text/html": [
       "<div>\n",
       "<style scoped>\n",
       "    .dataframe tbody tr th:only-of-type {\n",
       "        vertical-align: middle;\n",
       "    }\n",
       "\n",
       "    .dataframe tbody tr th {\n",
       "        vertical-align: top;\n",
       "    }\n",
       "\n",
       "    .dataframe thead th {\n",
       "        text-align: right;\n",
       "    }\n",
       "</style>\n",
       "<table border=\"1\" class=\"dataframe\">\n",
       "  <thead>\n",
       "    <tr style=\"text-align: right;\">\n",
       "      <th></th>\n",
       "      <th>Brand</th>\n",
       "      <th>Short-Description</th>\n",
       "      <th>Price</th>\n",
       "    </tr>\n",
       "  </thead>\n",
       "  <tbody>\n",
       "    <tr>\n",
       "      <th>1</th>\n",
       "      <td>Puma</td>\n",
       "      <td>Men Running Shoes</td>\n",
       "      <td>Rs. 7149Rs. 12999(45% OFF)</td>\n",
       "    </tr>\n",
       "    <tr>\n",
       "      <th>2</th>\n",
       "      <td>Puma</td>\n",
       "      <td></td>\n",
       "      <td>Rs. 8449Rs. 12999(35% OFF)</td>\n",
       "    </tr>\n",
       "    <tr>\n",
       "      <th>3</th>\n",
       "      <td>Puma</td>\n",
       "      <td>Men Magnify Nitro Running</td>\n",
       "      <td>Rs. 7499Rs. 9999(25% OFF)</td>\n",
       "    </tr>\n",
       "    <tr>\n",
       "      <th>4</th>\n",
       "      <td>Puma</td>\n",
       "      <td></td>\n",
       "      <td>Rs. 7799Rs. 12999(40% OFF)</td>\n",
       "    </tr>\n",
       "    <tr>\n",
       "      <th>5</th>\n",
       "      <td>Saint G</td>\n",
       "      <td>Men Electrify Nitro Running</td>\n",
       "      <td>Rs. 9810Rs. 10900(10% OFF)</td>\n",
       "    </tr>\n",
       "    <tr>\n",
       "      <th>...</th>\n",
       "      <td>...</td>\n",
       "      <td>...</td>\n",
       "      <td>...</td>\n",
       "    </tr>\n",
       "    <tr>\n",
       "      <th>96</th>\n",
       "      <td>Pavers England</td>\n",
       "      <td></td>\n",
       "      <td>Rs. 10999</td>\n",
       "    </tr>\n",
       "    <tr>\n",
       "      <th>97</th>\n",
       "      <td>Saint G</td>\n",
       "      <td>Textured Leather Party Kitten Heeled Boots</td>\n",
       "      <td>Rs. 10350Rs. 11500(10% OFF)</td>\n",
       "    </tr>\n",
       "    <tr>\n",
       "      <th>98</th>\n",
       "      <td>Calvin Klein</td>\n",
       "      <td></td>\n",
       "      <td>Rs. 9999</td>\n",
       "    </tr>\n",
       "    <tr>\n",
       "      <th>99</th>\n",
       "      <td>Geox</td>\n",
       "      <td>Leather Block Heeled Boots with Bows</td>\n",
       "      <td>Rs. 8399Rs. 11999(30% OFF)</td>\n",
       "    </tr>\n",
       "    <tr>\n",
       "      <th>100</th>\n",
       "      <td>Geox</td>\n",
       "      <td></td>\n",
       "      <td>Rs. 12599Rs. 17999(30% OFF)</td>\n",
       "    </tr>\n",
       "  </tbody>\n",
       "</table>\n",
       "<p>100 rows × 3 columns</p>\n",
       "</div>"
      ],
      "text/plain": [
       "              Brand                           Short-Description  \\\n",
       "1              Puma                           Men Running Shoes   \n",
       "2              Puma                                               \n",
       "3              Puma                   Men Magnify Nitro Running   \n",
       "4              Puma                                               \n",
       "5           Saint G                 Men Electrify Nitro Running   \n",
       "..              ...                                         ...   \n",
       "96   Pavers England                                               \n",
       "97          Saint G  Textured Leather Party Kitten Heeled Boots   \n",
       "98     Calvin Klein                                               \n",
       "99             Geox        Leather Block Heeled Boots with Bows   \n",
       "100            Geox                                               \n",
       "\n",
       "                           Price  \n",
       "1     Rs. 7149Rs. 12999(45% OFF)  \n",
       "2     Rs. 8449Rs. 12999(35% OFF)  \n",
       "3      Rs. 7499Rs. 9999(25% OFF)  \n",
       "4     Rs. 7799Rs. 12999(40% OFF)  \n",
       "5     Rs. 9810Rs. 10900(10% OFF)  \n",
       "..                           ...  \n",
       "96                     Rs. 10999  \n",
       "97   Rs. 10350Rs. 11500(10% OFF)  \n",
       "98                      Rs. 9999  \n",
       "99    Rs. 8399Rs. 11999(30% OFF)  \n",
       "100  Rs. 12599Rs. 17999(30% OFF)  \n",
       "\n",
       "[100 rows x 3 columns]"
      ]
     },
     "execution_count": 76,
     "metadata": {},
     "output_type": "execute_result"
    }
   ],
   "source": [
    "df7=pd.DataFrame({'Brand':a,\n",
    "                'Short-Description':b,\n",
    "                'Price':c})\n",
    "df7.index = df7.index + 1\n",
    "df7"
   ]
  },
  {
   "cell_type": "markdown",
   "id": "6f26cafd",
   "metadata": {},
   "source": [
    "## Q8: Go to webpage https://www.amazon.in/\n",
    "Enter “Laptop” in the search field and then click the search icon.\n",
    "Then set CPU Type filter to “Intel Core i7” and “Intel Core i9” as shown in the below image:\n",
    "After setting the filters scrape first 10 laptops data. You have to scrape 3 attributesfor each laptop:\n",
    "1. Title\n",
    "2. Ratings\n",
    "3. Price\n",
    "As shown in the below image as the tick marked attributes."
   ]
  },
  {
   "cell_type": "code",
   "execution_count": 77,
   "id": "bf983397",
   "metadata": {},
   "outputs": [],
   "source": [
    "# Let's first connect to the web driver\n",
    "driver8 = webdriver.Chrome(r\"C:\\Users\\dell\\Downloads\\chromedriver_win32\\chromedriver.exe\")"
   ]
  },
  {
   "cell_type": "code",
   "execution_count": 78,
   "id": "6027a25c",
   "metadata": {},
   "outputs": [],
   "source": [
    "url8='https://www.amazon.in/'\n",
    "driver8.get(url8)"
   ]
  },
  {
   "cell_type": "code",
   "execution_count": 79,
   "id": "ee0a8f3f",
   "metadata": {},
   "outputs": [
    {
     "data": {
      "text/plain": [
       "<selenium.webdriver.remote.webelement.WebElement (session=\"824f2758d048704158ccb32c3ba67f1d\", element=\"6d7b6ad5-dd38-4ccc-b437-738ad49f0e66\")>"
      ]
     },
     "execution_count": 79,
     "metadata": {},
     "output_type": "execute_result"
    }
   ],
   "source": [
    "search_bar8 = driver8.find_element_by_id(\"twotabsearchtextbox\")\n",
    "search_bar8"
   ]
  },
  {
   "cell_type": "code",
   "execution_count": 80,
   "id": "28f7b053",
   "metadata": {},
   "outputs": [
    {
     "data": {
      "text/plain": [
       "<selenium.webdriver.remote.webelement.WebElement (session=\"824f2758d048704158ccb32c3ba67f1d\", element=\"6d7b6ad5-dd38-4ccc-b437-738ad49f0e66\")>"
      ]
     },
     "execution_count": 80,
     "metadata": {},
     "output_type": "execute_result"
    }
   ],
   "source": [
    "search_bar8.send_keys(\"laptops\") \n",
    "search_bar8"
   ]
  },
  {
   "cell_type": "code",
   "execution_count": 81,
   "id": "7bbb3e9c",
   "metadata": {},
   "outputs": [],
   "source": [
    "search_btn8 = driver8.find_element_by_xpath('//span[@id=\"nav-search-submit-text\"]') \n",
    "search_btn8.click() "
   ]
  },
  {
   "cell_type": "code",
   "execution_count": 82,
   "id": "36fdc721",
   "metadata": {},
   "outputs": [
    {
     "data": {
      "text/plain": [
       "[<selenium.webdriver.remote.webelement.WebElement (session=\"824f2758d048704158ccb32c3ba67f1d\", element=\"9458e8fc-fc02-42c1-b8b3-808be60fca35\")>,\n",
       " <selenium.webdriver.remote.webelement.WebElement (session=\"824f2758d048704158ccb32c3ba67f1d\", element=\"d7e46b41-5d0e-4aeb-a627-f71f7990f20a\")>,\n",
       " <selenium.webdriver.remote.webelement.WebElement (session=\"824f2758d048704158ccb32c3ba67f1d\", element=\"6159aa95-31b5-49cc-b084-2aa68ef0c7f1\")>,\n",
       " <selenium.webdriver.remote.webelement.WebElement (session=\"824f2758d048704158ccb32c3ba67f1d\", element=\"ffdbf6bc-be96-4305-9044-a2be8d57f822\")>,\n",
       " <selenium.webdriver.remote.webelement.WebElement (session=\"824f2758d048704158ccb32c3ba67f1d\", element=\"6fb8a955-7fa0-49d0-9e1e-638c0cf9d3bb\")>,\n",
       " <selenium.webdriver.remote.webelement.WebElement (session=\"824f2758d048704158ccb32c3ba67f1d\", element=\"d56f952a-b350-4e04-927d-3717a45ebf99\")>,\n",
       " <selenium.webdriver.remote.webelement.WebElement (session=\"824f2758d048704158ccb32c3ba67f1d\", element=\"948e767c-109b-4f04-8793-1aa608182e91\")>,\n",
       " <selenium.webdriver.remote.webelement.WebElement (session=\"824f2758d048704158ccb32c3ba67f1d\", element=\"3a02db48-eabe-4d86-9e88-d395bde8bc9e\")>,\n",
       " <selenium.webdriver.remote.webelement.WebElement (session=\"824f2758d048704158ccb32c3ba67f1d\", element=\"9bd05b49-6de4-4424-b933-942ec28508a2\")>,\n",
       " <selenium.webdriver.remote.webelement.WebElement (session=\"824f2758d048704158ccb32c3ba67f1d\", element=\"b37469fd-ca0a-413e-9a25-f0a68be6727d\")>,\n",
       " <selenium.webdriver.remote.webelement.WebElement (session=\"824f2758d048704158ccb32c3ba67f1d\", element=\"26327ee2-05c7-42e7-aeb4-ee15305149d0\")>,\n",
       " <selenium.webdriver.remote.webelement.WebElement (session=\"824f2758d048704158ccb32c3ba67f1d\", element=\"26070357-c0bb-42f1-a025-00c200d3a049\")>,\n",
       " <selenium.webdriver.remote.webelement.WebElement (session=\"824f2758d048704158ccb32c3ba67f1d\", element=\"659647cd-8b53-4c67-b03d-6b737eb3ec42\")>,\n",
       " <selenium.webdriver.remote.webelement.WebElement (session=\"824f2758d048704158ccb32c3ba67f1d\", element=\"89718eb8-7e3b-49d3-af42-d765bac37cf8\")>,\n",
       " <selenium.webdriver.remote.webelement.WebElement (session=\"824f2758d048704158ccb32c3ba67f1d\", element=\"ffda4587-fd39-405c-90bc-4ea488d6817d\")>,\n",
       " <selenium.webdriver.remote.webelement.WebElement (session=\"824f2758d048704158ccb32c3ba67f1d\", element=\"f38259ce-b589-4c4f-8d14-b94981ba2f21\")>,\n",
       " <selenium.webdriver.remote.webelement.WebElement (session=\"824f2758d048704158ccb32c3ba67f1d\", element=\"cf19ab59-2f72-407f-be0d-2da777f21714\")>,\n",
       " <selenium.webdriver.remote.webelement.WebElement (session=\"824f2758d048704158ccb32c3ba67f1d\", element=\"f639629e-07cd-4623-9908-c52b01830c2a\")>,\n",
       " <selenium.webdriver.remote.webelement.WebElement (session=\"824f2758d048704158ccb32c3ba67f1d\", element=\"3bdfe917-017b-4273-9ff0-dae5325dccc6\")>,\n",
       " <selenium.webdriver.remote.webelement.WebElement (session=\"824f2758d048704158ccb32c3ba67f1d\", element=\"9325eebf-f7e2-4317-880b-4f7822692cc7\")>,\n",
       " <selenium.webdriver.remote.webelement.WebElement (session=\"824f2758d048704158ccb32c3ba67f1d\", element=\"602c1ee8-678e-4ad8-ba5f-4f7eec223a1e\")>,\n",
       " <selenium.webdriver.remote.webelement.WebElement (session=\"824f2758d048704158ccb32c3ba67f1d\", element=\"d17ca615-7b5b-4361-9160-f5a82ad37206\")>,\n",
       " <selenium.webdriver.remote.webelement.WebElement (session=\"824f2758d048704158ccb32c3ba67f1d\", element=\"c4c7fe59-0ac8-4e57-a78f-af3dce23148f\")>,\n",
       " <selenium.webdriver.remote.webelement.WebElement (session=\"824f2758d048704158ccb32c3ba67f1d\", element=\"6b7559ec-f752-4041-b1cd-afbfcfd0563d\")>,\n",
       " <selenium.webdriver.remote.webelement.WebElement (session=\"824f2758d048704158ccb32c3ba67f1d\", element=\"fc7e234a-d91a-48e5-be5e-dc2685c70d05\")>,\n",
       " <selenium.webdriver.remote.webelement.WebElement (session=\"824f2758d048704158ccb32c3ba67f1d\", element=\"6c7f138c-9b61-4f90-85d2-3191ff27e6fb\")>,\n",
       " <selenium.webdriver.remote.webelement.WebElement (session=\"824f2758d048704158ccb32c3ba67f1d\", element=\"c8e634e4-ce34-40a3-bb63-33054721a0f3\")>,\n",
       " <selenium.webdriver.remote.webelement.WebElement (session=\"824f2758d048704158ccb32c3ba67f1d\", element=\"b425e4b1-2065-4a9b-a147-4f543dce54a9\")>,\n",
       " <selenium.webdriver.remote.webelement.WebElement (session=\"824f2758d048704158ccb32c3ba67f1d\", element=\"e7c727b5-343c-48af-a4dc-91da91511f9d\")>,\n",
       " <selenium.webdriver.remote.webelement.WebElement (session=\"824f2758d048704158ccb32c3ba67f1d\", element=\"7a3841e5-e185-4f8e-8c36-fcb9e0591c3d\")>,\n",
       " <selenium.webdriver.remote.webelement.WebElement (session=\"824f2758d048704158ccb32c3ba67f1d\", element=\"7c50e25e-c0f4-4c73-b770-079470c2162d\")>,\n",
       " <selenium.webdriver.remote.webelement.WebElement (session=\"824f2758d048704158ccb32c3ba67f1d\", element=\"9a1f301f-e65f-4d38-baba-ee9f90f7f723\")>,\n",
       " <selenium.webdriver.remote.webelement.WebElement (session=\"824f2758d048704158ccb32c3ba67f1d\", element=\"3c4eac8d-6b60-46f7-a3fe-6181b3d6a888\")>,\n",
       " <selenium.webdriver.remote.webelement.WebElement (session=\"824f2758d048704158ccb32c3ba67f1d\", element=\"c9f0dd91-c303-4471-881d-e33f53b14fb7\")>,\n",
       " <selenium.webdriver.remote.webelement.WebElement (session=\"824f2758d048704158ccb32c3ba67f1d\", element=\"01fdb7cd-4cfe-4340-9c80-49e8622f489e\")>,\n",
       " <selenium.webdriver.remote.webelement.WebElement (session=\"824f2758d048704158ccb32c3ba67f1d\", element=\"ef69e31f-0955-4f40-9440-44c18c02da9a\")>,\n",
       " <selenium.webdriver.remote.webelement.WebElement (session=\"824f2758d048704158ccb32c3ba67f1d\", element=\"ebbf7cc7-bd33-4277-a427-18e56e182d74\")>,\n",
       " <selenium.webdriver.remote.webelement.WebElement (session=\"824f2758d048704158ccb32c3ba67f1d\", element=\"f7d8cae9-d630-4b4c-9040-e13372a0e378\")>,\n",
       " <selenium.webdriver.remote.webelement.WebElement (session=\"824f2758d048704158ccb32c3ba67f1d\", element=\"650d334c-78d9-4087-947a-a5e51b8677e7\")>,\n",
       " <selenium.webdriver.remote.webelement.WebElement (session=\"824f2758d048704158ccb32c3ba67f1d\", element=\"aace0039-e540-4afd-94cd-58ffb8e1db4c\")>,\n",
       " <selenium.webdriver.remote.webelement.WebElement (session=\"824f2758d048704158ccb32c3ba67f1d\", element=\"27937615-9bd9-415d-ae93-17e03fe3737d\")>,\n",
       " <selenium.webdriver.remote.webelement.WebElement (session=\"824f2758d048704158ccb32c3ba67f1d\", element=\"6540e9a0-5fbe-4666-80d3-2ce4ee113604\")>,\n",
       " <selenium.webdriver.remote.webelement.WebElement (session=\"824f2758d048704158ccb32c3ba67f1d\", element=\"27a3e5dd-c7a1-406b-b939-960aefcea387\")>,\n",
       " <selenium.webdriver.remote.webelement.WebElement (session=\"824f2758d048704158ccb32c3ba67f1d\", element=\"57314db0-859c-4449-b844-7bda563bff94\")>,\n",
       " <selenium.webdriver.remote.webelement.WebElement (session=\"824f2758d048704158ccb32c3ba67f1d\", element=\"b97aab18-be8f-4dbc-989e-2633d53be68d\")>,\n",
       " <selenium.webdriver.remote.webelement.WebElement (session=\"824f2758d048704158ccb32c3ba67f1d\", element=\"5c8c0288-04e5-45d8-952c-71ccd73752e2\")>,\n",
       " <selenium.webdriver.remote.webelement.WebElement (session=\"824f2758d048704158ccb32c3ba67f1d\", element=\"311b949f-1b9a-4d4a-920d-5ae456d81235\")>,\n",
       " <selenium.webdriver.remote.webelement.WebElement (session=\"824f2758d048704158ccb32c3ba67f1d\", element=\"a03a309d-9175-4a57-86ab-c3891b5ed8b0\")>,\n",
       " <selenium.webdriver.remote.webelement.WebElement (session=\"824f2758d048704158ccb32c3ba67f1d\", element=\"573316b2-0af0-4e99-8e52-c50405eaad53\")>,\n",
       " <selenium.webdriver.remote.webelement.WebElement (session=\"824f2758d048704158ccb32c3ba67f1d\", element=\"f92d43c0-2aae-44cd-9ab6-e31f2f7b13c3\")>,\n",
       " <selenium.webdriver.remote.webelement.WebElement (session=\"824f2758d048704158ccb32c3ba67f1d\", element=\"97dd73fc-4c6a-40d5-9d4b-f78c6e8bd643\")>,\n",
       " <selenium.webdriver.remote.webelement.WebElement (session=\"824f2758d048704158ccb32c3ba67f1d\", element=\"aef9c6c5-88a2-4526-a30f-237099a8aafb\")>,\n",
       " <selenium.webdriver.remote.webelement.WebElement (session=\"824f2758d048704158ccb32c3ba67f1d\", element=\"5fe9a7a6-8795-4065-be4b-6cd26c1594e3\")>,\n",
       " <selenium.webdriver.remote.webelement.WebElement (session=\"824f2758d048704158ccb32c3ba67f1d\", element=\"4314b966-7c2f-4709-ad78-cfe8acd10671\")>,\n",
       " <selenium.webdriver.remote.webelement.WebElement (session=\"824f2758d048704158ccb32c3ba67f1d\", element=\"f382d852-8ef2-4f80-b9f5-2707b54cb7b7\")>,\n",
       " <selenium.webdriver.remote.webelement.WebElement (session=\"824f2758d048704158ccb32c3ba67f1d\", element=\"5b2eb502-8deb-4a23-a55e-387955299034\")>,\n",
       " <selenium.webdriver.remote.webelement.WebElement (session=\"824f2758d048704158ccb32c3ba67f1d\", element=\"88c47a10-8f63-4d57-b21d-e3f0ac7b7e0c\")>,\n",
       " <selenium.webdriver.remote.webelement.WebElement (session=\"824f2758d048704158ccb32c3ba67f1d\", element=\"4eeccd8d-3336-4576-bb9a-1904ac05ee42\")>,\n",
       " <selenium.webdriver.remote.webelement.WebElement (session=\"824f2758d048704158ccb32c3ba67f1d\", element=\"ecd9bb48-3c85-420c-9fbb-751dc235e73d\")>,\n",
       " <selenium.webdriver.remote.webelement.WebElement (session=\"824f2758d048704158ccb32c3ba67f1d\", element=\"8be4698b-8727-4412-804f-cb0535811608\")>,\n",
       " <selenium.webdriver.remote.webelement.WebElement (session=\"824f2758d048704158ccb32c3ba67f1d\", element=\"c24a9293-b70e-49a4-b368-f4f7fe8dbf21\")>,\n",
       " <selenium.webdriver.remote.webelement.WebElement (session=\"824f2758d048704158ccb32c3ba67f1d\", element=\"702eb544-3cde-4e67-8d08-70571ef13aad\")>,\n",
       " <selenium.webdriver.remote.webelement.WebElement (session=\"824f2758d048704158ccb32c3ba67f1d\", element=\"207e005a-4fe5-40de-be44-ab71e99d57da\")>,\n",
       " <selenium.webdriver.remote.webelement.WebElement (session=\"824f2758d048704158ccb32c3ba67f1d\", element=\"87275a53-2fac-4552-9f0c-1925f76e2594\")>,\n",
       " <selenium.webdriver.remote.webelement.WebElement (session=\"824f2758d048704158ccb32c3ba67f1d\", element=\"413b3675-82a4-48e6-a2d2-c3c71b9adaa3\")>,\n",
       " <selenium.webdriver.remote.webelement.WebElement (session=\"824f2758d048704158ccb32c3ba67f1d\", element=\"d9dee071-725e-4310-b344-19fc1d14c5d2\")>,\n",
       " <selenium.webdriver.remote.webelement.WebElement (session=\"824f2758d048704158ccb32c3ba67f1d\", element=\"5a5fcb13-a2f5-410e-bd97-16e53e1d0261\")>,\n",
       " <selenium.webdriver.remote.webelement.WebElement (session=\"824f2758d048704158ccb32c3ba67f1d\", element=\"6b7f97e7-bbc7-4344-850c-fa6a271030fa\")>,\n",
       " <selenium.webdriver.remote.webelement.WebElement (session=\"824f2758d048704158ccb32c3ba67f1d\", element=\"f7e7c303-0bec-4c97-9754-a2fc7adcc94c\")>,\n",
       " <selenium.webdriver.remote.webelement.WebElement (session=\"824f2758d048704158ccb32c3ba67f1d\", element=\"eadcd3f4-043e-4258-ba4d-7fc863953ac7\")>,\n",
       " <selenium.webdriver.remote.webelement.WebElement (session=\"824f2758d048704158ccb32c3ba67f1d\", element=\"f0113e1c-b9d4-4eba-b9d2-6f576132439a\")>,\n",
       " <selenium.webdriver.remote.webelement.WebElement (session=\"824f2758d048704158ccb32c3ba67f1d\", element=\"7b2c1a94-7a7e-4f91-ac48-e195d29b2c30\")>,\n",
       " <selenium.webdriver.remote.webelement.WebElement (session=\"824f2758d048704158ccb32c3ba67f1d\", element=\"b9935406-9cc5-4a03-b3c8-0e3f7c9ddae4\")>,\n",
       " <selenium.webdriver.remote.webelement.WebElement (session=\"824f2758d048704158ccb32c3ba67f1d\", element=\"08a6b199-a87e-489f-bab3-1545b1d145f5\")>,\n",
       " <selenium.webdriver.remote.webelement.WebElement (session=\"824f2758d048704158ccb32c3ba67f1d\", element=\"c3964688-fb6d-45e1-843f-33b0315f5ae3\")>,\n",
       " <selenium.webdriver.remote.webelement.WebElement (session=\"824f2758d048704158ccb32c3ba67f1d\", element=\"cbc4593b-9b6a-444e-b5da-bb71da49a21c\")>,\n",
       " <selenium.webdriver.remote.webelement.WebElement (session=\"824f2758d048704158ccb32c3ba67f1d\", element=\"e7b4956b-4c08-4373-b982-e676d6d0c53d\")>,\n",
       " <selenium.webdriver.remote.webelement.WebElement (session=\"824f2758d048704158ccb32c3ba67f1d\", element=\"f00463e5-04c5-47f9-9f30-d14e08fe3e05\")>,\n",
       " <selenium.webdriver.remote.webelement.WebElement (session=\"824f2758d048704158ccb32c3ba67f1d\", element=\"563d7a22-b8f5-4bff-be91-cc6339a40647\")>,\n",
       " <selenium.webdriver.remote.webelement.WebElement (session=\"824f2758d048704158ccb32c3ba67f1d\", element=\"20de802c-9719-4d4d-98dc-fff404f6041a\")>,\n",
       " <selenium.webdriver.remote.webelement.WebElement (session=\"824f2758d048704158ccb32c3ba67f1d\", element=\"05facfa8-1235-48d8-933e-f5c945a9f7b0\")>,\n",
       " <selenium.webdriver.remote.webelement.WebElement (session=\"824f2758d048704158ccb32c3ba67f1d\", element=\"40d4cfd6-a25e-4856-8469-8e51fe4d584f\")>,\n",
       " <selenium.webdriver.remote.webelement.WebElement (session=\"824f2758d048704158ccb32c3ba67f1d\", element=\"483eb57d-474b-4854-926d-491100334c5d\")>,\n",
       " <selenium.webdriver.remote.webelement.WebElement (session=\"824f2758d048704158ccb32c3ba67f1d\", element=\"fd8ca205-c54b-4e96-9876-576a7be49d0c\")>,\n",
       " <selenium.webdriver.remote.webelement.WebElement (session=\"824f2758d048704158ccb32c3ba67f1d\", element=\"c1431fbd-56dc-4340-8cbc-0cfe077ea48c\")>,\n",
       " <selenium.webdriver.remote.webelement.WebElement (session=\"824f2758d048704158ccb32c3ba67f1d\", element=\"0a9acb0b-90a9-4e03-a7d6-0c6cdd86d931\")>,\n",
       " <selenium.webdriver.remote.webelement.WebElement (session=\"824f2758d048704158ccb32c3ba67f1d\", element=\"eec17d47-25c1-4583-af34-9b347d205f0a\")>,\n",
       " <selenium.webdriver.remote.webelement.WebElement (session=\"824f2758d048704158ccb32c3ba67f1d\", element=\"e44ebca4-50a2-4a99-89a7-e72da8a26010\")>,\n",
       " <selenium.webdriver.remote.webelement.WebElement (session=\"824f2758d048704158ccb32c3ba67f1d\", element=\"1d3cbda2-b1ae-45c0-8cef-352333484a98\")>,\n",
       " <selenium.webdriver.remote.webelement.WebElement (session=\"824f2758d048704158ccb32c3ba67f1d\", element=\"f4d7156d-673e-42b3-8d3c-9738e155e256\")>,\n",
       " <selenium.webdriver.remote.webelement.WebElement (session=\"824f2758d048704158ccb32c3ba67f1d\", element=\"590a40e8-54d4-4ad3-80fc-027228b36879\")>,\n",
       " <selenium.webdriver.remote.webelement.WebElement (session=\"824f2758d048704158ccb32c3ba67f1d\", element=\"3007b370-c14f-464b-982c-6a0df11cc35a\")>,\n",
       " <selenium.webdriver.remote.webelement.WebElement (session=\"824f2758d048704158ccb32c3ba67f1d\", element=\"8a1d58ec-ada1-474e-8ad5-e3398108f11f\")>,\n",
       " <selenium.webdriver.remote.webelement.WebElement (session=\"824f2758d048704158ccb32c3ba67f1d\", element=\"f6ef17c9-8c5c-4bff-8805-7f4a40a91d81\")>,\n",
       " <selenium.webdriver.remote.webelement.WebElement (session=\"824f2758d048704158ccb32c3ba67f1d\", element=\"257b7e17-e9d8-4d56-9186-88bc9e31e1d4\")>,\n",
       " <selenium.webdriver.remote.webelement.WebElement (session=\"824f2758d048704158ccb32c3ba67f1d\", element=\"b02d4a09-b2e5-4f4c-97ab-53098bf7a6a9\")>,\n",
       " <selenium.webdriver.remote.webelement.WebElement (session=\"824f2758d048704158ccb32c3ba67f1d\", element=\"8887b0cb-23f2-4698-afba-b77baecb9b69\")>,\n",
       " <selenium.webdriver.remote.webelement.WebElement (session=\"824f2758d048704158ccb32c3ba67f1d\", element=\"e756e821-c62d-4c2d-b3a7-d4fbe0408201\")>,\n",
       " <selenium.webdriver.remote.webelement.WebElement (session=\"824f2758d048704158ccb32c3ba67f1d\", element=\"e652c7ef-6fa7-4024-9f1f-c8d856f30773\")>,\n",
       " <selenium.webdriver.remote.webelement.WebElement (session=\"824f2758d048704158ccb32c3ba67f1d\", element=\"694041a3-3ff8-4d7f-9c36-582ef5b23a45\")>,\n",
       " <selenium.webdriver.remote.webelement.WebElement (session=\"824f2758d048704158ccb32c3ba67f1d\", element=\"fb1d28f8-f413-41fc-8e7b-77461a97a1e8\")>,\n",
       " <selenium.webdriver.remote.webelement.WebElement (session=\"824f2758d048704158ccb32c3ba67f1d\", element=\"0b8b6e78-6c46-4668-b872-8f42a93355a6\")>,\n",
       " <selenium.webdriver.remote.webelement.WebElement (session=\"824f2758d048704158ccb32c3ba67f1d\", element=\"e737612e-4264-4ce4-89c6-01ccfeb75053\")>,\n",
       " <selenium.webdriver.remote.webelement.WebElement (session=\"824f2758d048704158ccb32c3ba67f1d\", element=\"3d679555-9289-4182-ab25-2163da2460dd\")>,\n",
       " <selenium.webdriver.remote.webelement.WebElement (session=\"824f2758d048704158ccb32c3ba67f1d\", element=\"d4cd8b41-4c45-4f04-8388-67ab000ac204\")>,\n",
       " <selenium.webdriver.remote.webelement.WebElement (session=\"824f2758d048704158ccb32c3ba67f1d\", element=\"41ef8b15-432e-4d13-9bd4-bcb460c23840\")>,\n",
       " <selenium.webdriver.remote.webelement.WebElement (session=\"824f2758d048704158ccb32c3ba67f1d\", element=\"540508da-146f-47c6-b5c5-0b86b3224c24\")>,\n",
       " <selenium.webdriver.remote.webelement.WebElement (session=\"824f2758d048704158ccb32c3ba67f1d\", element=\"4de95472-82b6-4925-a7cc-bb90a7d058b2\")>,\n",
       " <selenium.webdriver.remote.webelement.WebElement (session=\"824f2758d048704158ccb32c3ba67f1d\", element=\"088ae949-4472-42f5-aa0f-d31cb0b79a38\")>,\n",
       " <selenium.webdriver.remote.webelement.WebElement (session=\"824f2758d048704158ccb32c3ba67f1d\", element=\"ffc80520-f905-4e72-9a8c-b68dfb9c2948\")>,\n",
       " <selenium.webdriver.remote.webelement.WebElement (session=\"824f2758d048704158ccb32c3ba67f1d\", element=\"bd7683de-7fd3-4d40-9984-5a3460348b76\")>,\n",
       " <selenium.webdriver.remote.webelement.WebElement (session=\"824f2758d048704158ccb32c3ba67f1d\", element=\"f29d62fb-6b22-4cc8-a80e-ab00c54b2b8f\")>,\n",
       " <selenium.webdriver.remote.webelement.WebElement (session=\"824f2758d048704158ccb32c3ba67f1d\", element=\"c8b48b5a-87d7-40f7-ab8f-61d482f62b15\")>,\n",
       " <selenium.webdriver.remote.webelement.WebElement (session=\"824f2758d048704158ccb32c3ba67f1d\", element=\"4e975ff5-8fc0-4ba0-a099-9c4c53e6e5b0\")>,\n",
       " <selenium.webdriver.remote.webelement.WebElement (session=\"824f2758d048704158ccb32c3ba67f1d\", element=\"d40f4071-6985-4457-84b5-f34e4d8324e5\")>,\n",
       " <selenium.webdriver.remote.webelement.WebElement (session=\"824f2758d048704158ccb32c3ba67f1d\", element=\"9aba39ec-50d2-4023-a238-8e23a2ed61a0\")>,\n",
       " <selenium.webdriver.remote.webelement.WebElement (session=\"824f2758d048704158ccb32c3ba67f1d\", element=\"92d64678-3940-4b63-896d-e90e31f6e165\")>,\n",
       " <selenium.webdriver.remote.webelement.WebElement (session=\"824f2758d048704158ccb32c3ba67f1d\", element=\"eedd2fca-e846-455e-99f4-b9a868896aef\")>,\n",
       " <selenium.webdriver.remote.webelement.WebElement (session=\"824f2758d048704158ccb32c3ba67f1d\", element=\"52f32f00-0b1b-4556-ad27-b348410b96bc\")>,\n",
       " <selenium.webdriver.remote.webelement.WebElement (session=\"824f2758d048704158ccb32c3ba67f1d\", element=\"0e35dfd0-096a-4188-bf57-fc79d78ab896\")>,\n",
       " <selenium.webdriver.remote.webelement.WebElement (session=\"824f2758d048704158ccb32c3ba67f1d\", element=\"3ab5df7b-fff6-44ea-b56c-09d6a1d8da6f\")>,\n",
       " <selenium.webdriver.remote.webelement.WebElement (session=\"824f2758d048704158ccb32c3ba67f1d\", element=\"14100ca1-7c02-4954-8ee4-6781a9d07a35\")>,\n",
       " <selenium.webdriver.remote.webelement.WebElement (session=\"824f2758d048704158ccb32c3ba67f1d\", element=\"42076533-458e-495f-8194-e1a43d092d2e\")>,\n",
       " <selenium.webdriver.remote.webelement.WebElement (session=\"824f2758d048704158ccb32c3ba67f1d\", element=\"e42345dd-45f5-4be5-8a13-1564ce087c8a\")>,\n",
       " <selenium.webdriver.remote.webelement.WebElement (session=\"824f2758d048704158ccb32c3ba67f1d\", element=\"a96b95f6-08e2-4beb-8e4d-fd5663ad31c4\")>,\n",
       " <selenium.webdriver.remote.webelement.WebElement (session=\"824f2758d048704158ccb32c3ba67f1d\", element=\"33f30515-54fe-4efc-b2d7-014caac8faac\")>,\n",
       " <selenium.webdriver.remote.webelement.WebElement (session=\"824f2758d048704158ccb32c3ba67f1d\", element=\"4820e218-fed2-4cbd-8aaf-99341a4240a1\")>,\n",
       " <selenium.webdriver.remote.webelement.WebElement (session=\"824f2758d048704158ccb32c3ba67f1d\", element=\"90889417-14e0-4e43-bbe8-07e7ae218218\")>,\n",
       " <selenium.webdriver.remote.webelement.WebElement (session=\"824f2758d048704158ccb32c3ba67f1d\", element=\"6542d72f-0b25-46fc-b100-0a2dbf646975\")>,\n",
       " <selenium.webdriver.remote.webelement.WebElement (session=\"824f2758d048704158ccb32c3ba67f1d\", element=\"ee05b750-815f-452b-a4b7-5978ee6d5d79\")>,\n",
       " <selenium.webdriver.remote.webelement.WebElement (session=\"824f2758d048704158ccb32c3ba67f1d\", element=\"d7fdd2b6-de7b-4d8b-9680-ae63faf46d86\")>,\n",
       " <selenium.webdriver.remote.webelement.WebElement (session=\"824f2758d048704158ccb32c3ba67f1d\", element=\"4f5c54a5-76c5-41a7-9bcd-a669c51dc2e8\")>,\n",
       " <selenium.webdriver.remote.webelement.WebElement (session=\"824f2758d048704158ccb32c3ba67f1d\", element=\"9526878b-1831-48d4-b0b0-efc9c4a30ffc\")>,\n",
       " <selenium.webdriver.remote.webelement.WebElement (session=\"824f2758d048704158ccb32c3ba67f1d\", element=\"cfe53c4b-897b-4b87-8e80-169391794985\")>,\n",
       " <selenium.webdriver.remote.webelement.WebElement (session=\"824f2758d048704158ccb32c3ba67f1d\", element=\"0e97d80e-295d-4fba-8eb5-e7e8beb69e67\")>,\n",
       " <selenium.webdriver.remote.webelement.WebElement (session=\"824f2758d048704158ccb32c3ba67f1d\", element=\"2bd1d70d-6048-4144-891e-c135488b7e84\")>,\n",
       " <selenium.webdriver.remote.webelement.WebElement (session=\"824f2758d048704158ccb32c3ba67f1d\", element=\"1365db9f-b141-48b0-96ad-b45448a8a63c\")>,\n",
       " <selenium.webdriver.remote.webelement.WebElement (session=\"824f2758d048704158ccb32c3ba67f1d\", element=\"1a1fc840-bf97-4e6e-b5b0-27399accea3c\")>,\n",
       " <selenium.webdriver.remote.webelement.WebElement (session=\"824f2758d048704158ccb32c3ba67f1d\", element=\"d98ea7b5-e166-48bb-9d72-97287ee36c74\")>,\n",
       " <selenium.webdriver.remote.webelement.WebElement (session=\"824f2758d048704158ccb32c3ba67f1d\", element=\"fa23be58-912c-44ee-8763-574e05c760ae\")>,\n",
       " <selenium.webdriver.remote.webelement.WebElement (session=\"824f2758d048704158ccb32c3ba67f1d\", element=\"6ef19de4-e5e5-4084-be4d-675a1bc3025a\")>,\n",
       " <selenium.webdriver.remote.webelement.WebElement (session=\"824f2758d048704158ccb32c3ba67f1d\", element=\"62af2f93-60bc-491a-9645-c82ff00e0f0d\")>,\n",
       " <selenium.webdriver.remote.webelement.WebElement (session=\"824f2758d048704158ccb32c3ba67f1d\", element=\"75300ff0-d75d-4e1d-a98c-48fc84fecdcd\")>,\n",
       " <selenium.webdriver.remote.webelement.WebElement (session=\"824f2758d048704158ccb32c3ba67f1d\", element=\"415134ec-36de-4336-a86c-c6f367da80bf\")>,\n",
       " <selenium.webdriver.remote.webelement.WebElement (session=\"824f2758d048704158ccb32c3ba67f1d\", element=\"f7ced878-bb1c-495d-9856-d7eaaf19ac33\")>,\n",
       " <selenium.webdriver.remote.webelement.WebElement (session=\"824f2758d048704158ccb32c3ba67f1d\", element=\"2fb737c8-f61b-499d-b045-e298d4b34094\")>,\n",
       " <selenium.webdriver.remote.webelement.WebElement (session=\"824f2758d048704158ccb32c3ba67f1d\", element=\"a640813a-4b5d-4a9c-a102-58d15c2444f7\")>,\n",
       " <selenium.webdriver.remote.webelement.WebElement (session=\"824f2758d048704158ccb32c3ba67f1d\", element=\"3b7ccaf7-5594-4a9c-b7a5-a1999e6d5b54\")>,\n",
       " <selenium.webdriver.remote.webelement.WebElement (session=\"824f2758d048704158ccb32c3ba67f1d\", element=\"b4483ea2-ae8e-495a-850e-b9a4280b32a2\")>,\n",
       " <selenium.webdriver.remote.webelement.WebElement (session=\"824f2758d048704158ccb32c3ba67f1d\", element=\"968246b6-1a5d-4c9d-9580-083e4131a58b\")>,\n",
       " <selenium.webdriver.remote.webelement.WebElement (session=\"824f2758d048704158ccb32c3ba67f1d\", element=\"42c4a026-5fda-4b4f-a488-60943a5591b4\")>,\n",
       " <selenium.webdriver.remote.webelement.WebElement (session=\"824f2758d048704158ccb32c3ba67f1d\", element=\"76410314-a8b7-4918-9c08-b98ea49c86d5\")>,\n",
       " <selenium.webdriver.remote.webelement.WebElement (session=\"824f2758d048704158ccb32c3ba67f1d\", element=\"b008a8b9-59fd-45a9-b0c9-2cebbc19200a\")>,\n",
       " <selenium.webdriver.remote.webelement.WebElement (session=\"824f2758d048704158ccb32c3ba67f1d\", element=\"4eb92af2-7bfa-4e2a-8e93-ca2e04c5441d\")>,\n",
       " <selenium.webdriver.remote.webelement.WebElement (session=\"824f2758d048704158ccb32c3ba67f1d\", element=\"da176236-cfe2-49f0-8974-03afd026de04\")>,\n",
       " <selenium.webdriver.remote.webelement.WebElement (session=\"824f2758d048704158ccb32c3ba67f1d\", element=\"41cadbfd-8b9d-47c4-a9e1-a8cbffd27043\")>,\n",
       " <selenium.webdriver.remote.webelement.WebElement (session=\"824f2758d048704158ccb32c3ba67f1d\", element=\"402b16a1-b536-49f2-a965-8e6781b44ec6\")>,\n",
       " <selenium.webdriver.remote.webelement.WebElement (session=\"824f2758d048704158ccb32c3ba67f1d\", element=\"16fbde23-8f1f-41a6-a7ad-83a40e65e146\")>,\n",
       " <selenium.webdriver.remote.webelement.WebElement (session=\"824f2758d048704158ccb32c3ba67f1d\", element=\"a48b0c89-6b8c-4a33-9d90-ab24cba93a85\")>,\n",
       " <selenium.webdriver.remote.webelement.WebElement (session=\"824f2758d048704158ccb32c3ba67f1d\", element=\"66be580c-00d0-4da5-bced-4342e71d6f3d\")>,\n",
       " <selenium.webdriver.remote.webelement.WebElement (session=\"824f2758d048704158ccb32c3ba67f1d\", element=\"691da515-3603-4d1c-9f57-d87c154983bc\")>,\n",
       " <selenium.webdriver.remote.webelement.WebElement (session=\"824f2758d048704158ccb32c3ba67f1d\", element=\"4decb264-4d78-414f-84aa-9da843a23d19\")>,\n",
       " <selenium.webdriver.remote.webelement.WebElement (session=\"824f2758d048704158ccb32c3ba67f1d\", element=\"7a69e2e9-637c-4f20-9b5a-e1e113c7af7e\")>,\n",
       " <selenium.webdriver.remote.webelement.WebElement (session=\"824f2758d048704158ccb32c3ba67f1d\", element=\"5a9e4e88-e263-41c9-9cf2-49f29174bcc3\")>,\n",
       " <selenium.webdriver.remote.webelement.WebElement (session=\"824f2758d048704158ccb32c3ba67f1d\", element=\"0207ab6d-afff-4248-8178-c4a9f70587a5\")>,\n",
       " <selenium.webdriver.remote.webelement.WebElement (session=\"824f2758d048704158ccb32c3ba67f1d\", element=\"8d458a63-1a56-42cf-9518-df16d73fc46b\")>,\n",
       " <selenium.webdriver.remote.webelement.WebElement (session=\"824f2758d048704158ccb32c3ba67f1d\", element=\"c4cfb81e-afa8-4ef0-92ee-fdb35a9538a1\")>,\n",
       " <selenium.webdriver.remote.webelement.WebElement (session=\"824f2758d048704158ccb32c3ba67f1d\", element=\"e63e8f70-fb7e-4146-a159-82ee5517d99f\")>,\n",
       " <selenium.webdriver.remote.webelement.WebElement (session=\"824f2758d048704158ccb32c3ba67f1d\", element=\"b92a8f2e-0933-4b83-8b7f-4de60b2a8d2a\")>,\n",
       " <selenium.webdriver.remote.webelement.WebElement (session=\"824f2758d048704158ccb32c3ba67f1d\", element=\"28db52da-db3c-4b12-bd3e-0abacdffeff6\")>,\n",
       " <selenium.webdriver.remote.webelement.WebElement (session=\"824f2758d048704158ccb32c3ba67f1d\", element=\"e3a0fcd6-c649-410f-925e-db4e2ec0ea4e\")>,\n",
       " <selenium.webdriver.remote.webelement.WebElement (session=\"824f2758d048704158ccb32c3ba67f1d\", element=\"996ccb59-0e40-47e1-a128-c2e4da1c31c0\")>,\n",
       " <selenium.webdriver.remote.webelement.WebElement (session=\"824f2758d048704158ccb32c3ba67f1d\", element=\"c55c8e91-4694-4f54-81b0-f8dd5a5db72f\")>,\n",
       " <selenium.webdriver.remote.webelement.WebElement (session=\"824f2758d048704158ccb32c3ba67f1d\", element=\"ffc97f0f-7140-427b-9ebf-4f378537c8f6\")>,\n",
       " <selenium.webdriver.remote.webelement.WebElement (session=\"824f2758d048704158ccb32c3ba67f1d\", element=\"a7e276e5-c8ea-4f7d-a501-57052ea3147f\")>,\n",
       " <selenium.webdriver.remote.webelement.WebElement (session=\"824f2758d048704158ccb32c3ba67f1d\", element=\"953e0682-479f-43f2-b6db-10acbd6bce68\")>,\n",
       " <selenium.webdriver.remote.webelement.WebElement (session=\"824f2758d048704158ccb32c3ba67f1d\", element=\"20ccd90e-06a3-4a76-9059-be0a512365eb\")>,\n",
       " <selenium.webdriver.remote.webelement.WebElement (session=\"824f2758d048704158ccb32c3ba67f1d\", element=\"56a14f74-955a-451a-a8f3-277cc44e0893\")>,\n",
       " <selenium.webdriver.remote.webelement.WebElement (session=\"824f2758d048704158ccb32c3ba67f1d\", element=\"2c4bfe43-059a-4cbb-89a2-84eafb15a4de\")>,\n",
       " <selenium.webdriver.remote.webelement.WebElement (session=\"824f2758d048704158ccb32c3ba67f1d\", element=\"4b0221cc-7074-4a44-ad58-3b3b941ac438\")>,\n",
       " <selenium.webdriver.remote.webelement.WebElement (session=\"824f2758d048704158ccb32c3ba67f1d\", element=\"c07c04a6-e86c-4fe4-a9b2-fca61fb2b798\")>,\n",
       " <selenium.webdriver.remote.webelement.WebElement (session=\"824f2758d048704158ccb32c3ba67f1d\", element=\"f8be1422-b1f9-484a-b4e5-7c3e3f56bc65\")>,\n",
       " <selenium.webdriver.remote.webelement.WebElement (session=\"824f2758d048704158ccb32c3ba67f1d\", element=\"a72ef470-ebe4-4d00-aa3d-8563404c1b03\")>,\n",
       " <selenium.webdriver.remote.webelement.WebElement (session=\"824f2758d048704158ccb32c3ba67f1d\", element=\"0bad8c46-2d48-444a-8eba-949beeb41589\")>,\n",
       " <selenium.webdriver.remote.webelement.WebElement (session=\"824f2758d048704158ccb32c3ba67f1d\", element=\"b0c2a271-63dd-47ef-a7ee-f85547e87049\")>,\n",
       " <selenium.webdriver.remote.webelement.WebElement (session=\"824f2758d048704158ccb32c3ba67f1d\", element=\"895e6a6d-3d9e-49ac-979c-832974fa5a0e\")>,\n",
       " <selenium.webdriver.remote.webelement.WebElement (session=\"824f2758d048704158ccb32c3ba67f1d\", element=\"fc421d5a-6688-44a4-b1c5-2958c5cb22a2\")>,\n",
       " <selenium.webdriver.remote.webelement.WebElement (session=\"824f2758d048704158ccb32c3ba67f1d\", element=\"b4fcdafb-1fbc-4098-a9ed-8f268cfc53a8\")>,\n",
       " <selenium.webdriver.remote.webelement.WebElement (session=\"824f2758d048704158ccb32c3ba67f1d\", element=\"4113ea78-66ff-4b94-8cd0-117ef60b3686\")>,\n",
       " <selenium.webdriver.remote.webelement.WebElement (session=\"824f2758d048704158ccb32c3ba67f1d\", element=\"cf52bcfa-bb99-4a61-9c72-a0a98c56aeb6\")>,\n",
       " <selenium.webdriver.remote.webelement.WebElement (session=\"824f2758d048704158ccb32c3ba67f1d\", element=\"c87fdc45-b469-45d6-9b62-c5f6fa42ade7\")>,\n",
       " <selenium.webdriver.remote.webelement.WebElement (session=\"824f2758d048704158ccb32c3ba67f1d\", element=\"fbcedafc-04f1-4c0a-9e31-a2ea5b5bc279\")>,\n",
       " <selenium.webdriver.remote.webelement.WebElement (session=\"824f2758d048704158ccb32c3ba67f1d\", element=\"47f77517-eea9-41d2-bc8e-610b8b7a2a50\")>,\n",
       " <selenium.webdriver.remote.webelement.WebElement (session=\"824f2758d048704158ccb32c3ba67f1d\", element=\"05141b0d-4842-48ad-97f2-67a33ff3391e\")>,\n",
       " <selenium.webdriver.remote.webelement.WebElement (session=\"824f2758d048704158ccb32c3ba67f1d\", element=\"a468f433-034f-448d-9652-c56ecfe9c261\")>,\n",
       " <selenium.webdriver.remote.webelement.WebElement (session=\"824f2758d048704158ccb32c3ba67f1d\", element=\"74039cb7-8b55-46d6-b901-0ffb09043af7\")>,\n",
       " <selenium.webdriver.remote.webelement.WebElement (session=\"824f2758d048704158ccb32c3ba67f1d\", element=\"211172fc-aa7d-4354-ac4c-e430b500824f\")>,\n",
       " <selenium.webdriver.remote.webelement.WebElement (session=\"824f2758d048704158ccb32c3ba67f1d\", element=\"7866c428-1feb-4dd3-800d-2d92372ad80a\")>,\n",
       " <selenium.webdriver.remote.webelement.WebElement (session=\"824f2758d048704158ccb32c3ba67f1d\", element=\"6c64914a-44a7-4a77-980c-6b1634ae2b87\")>,\n",
       " <selenium.webdriver.remote.webelement.WebElement (session=\"824f2758d048704158ccb32c3ba67f1d\", element=\"549717dc-1944-415e-85a1-372f84181a7f\")>,\n",
       " <selenium.webdriver.remote.webelement.WebElement (session=\"824f2758d048704158ccb32c3ba67f1d\", element=\"46319e67-4958-4c1d-ac82-17c6713a51e6\")>,\n",
       " <selenium.webdriver.remote.webelement.WebElement (session=\"824f2758d048704158ccb32c3ba67f1d\", element=\"23585a23-8fd6-46e4-92d4-0e0e9bf5b759\")>,\n",
       " <selenium.webdriver.remote.webelement.WebElement (session=\"824f2758d048704158ccb32c3ba67f1d\", element=\"60778682-0686-4862-984f-dfe9095d60f9\")>,\n",
       " <selenium.webdriver.remote.webelement.WebElement (session=\"824f2758d048704158ccb32c3ba67f1d\", element=\"76156d78-f8e8-496c-831e-99db9b561010\")>,\n",
       " <selenium.webdriver.remote.webelement.WebElement (session=\"824f2758d048704158ccb32c3ba67f1d\", element=\"d43d2b5b-2915-4094-a5a9-5841c78b72a4\")>,\n",
       " <selenium.webdriver.remote.webelement.WebElement (session=\"824f2758d048704158ccb32c3ba67f1d\", element=\"be23e652-9081-49db-b3cf-7bcdedc97c79\")>,\n",
       " <selenium.webdriver.remote.webelement.WebElement (session=\"824f2758d048704158ccb32c3ba67f1d\", element=\"0e54c30c-02ba-4ceb-99ba-8673664e7a2e\")>,\n",
       " <selenium.webdriver.remote.webelement.WebElement (session=\"824f2758d048704158ccb32c3ba67f1d\", element=\"3d984d28-0042-43f6-bac2-558721fc334d\")>,\n",
       " <selenium.webdriver.remote.webelement.WebElement (session=\"824f2758d048704158ccb32c3ba67f1d\", element=\"9b19bbe3-c161-4ff6-8382-22fb474f74d6\")>,\n",
       " <selenium.webdriver.remote.webelement.WebElement (session=\"824f2758d048704158ccb32c3ba67f1d\", element=\"447f8f85-eb9c-4ec7-8afd-356b8de1a190\")>,\n",
       " <selenium.webdriver.remote.webelement.WebElement (session=\"824f2758d048704158ccb32c3ba67f1d\", element=\"8ebde0d4-dbbc-4665-a96a-d4e786957675\")>,\n",
       " <selenium.webdriver.remote.webelement.WebElement (session=\"824f2758d048704158ccb32c3ba67f1d\", element=\"14615c24-0004-4108-88b7-e2f95eae8553\")>,\n",
       " <selenium.webdriver.remote.webelement.WebElement (session=\"824f2758d048704158ccb32c3ba67f1d\", element=\"3758eff9-4ed5-4a0a-aafc-a804ad77dbce\")>,\n",
       " <selenium.webdriver.remote.webelement.WebElement (session=\"824f2758d048704158ccb32c3ba67f1d\", element=\"a2696213-e96f-4eef-8f87-0372926f9ccb\")>,\n",
       " <selenium.webdriver.remote.webelement.WebElement (session=\"824f2758d048704158ccb32c3ba67f1d\", element=\"28255c2f-d255-4c4e-a4c7-af996f2c1730\")>,\n",
       " <selenium.webdriver.remote.webelement.WebElement (session=\"824f2758d048704158ccb32c3ba67f1d\", element=\"0abdf9f4-dd72-46c0-aee4-2a87023f4bc5\")>,\n",
       " <selenium.webdriver.remote.webelement.WebElement (session=\"824f2758d048704158ccb32c3ba67f1d\", element=\"34fd68d1-1e78-4b7c-bf3d-373d08a54c60\")>,\n",
       " <selenium.webdriver.remote.webelement.WebElement (session=\"824f2758d048704158ccb32c3ba67f1d\", element=\"f869acd6-eda2-4be4-83fc-0fed6b5fa70c\")>,\n",
       " <selenium.webdriver.remote.webelement.WebElement (session=\"824f2758d048704158ccb32c3ba67f1d\", element=\"4ab178e9-bac6-4f79-87f1-e7976ccf7c75\")>,\n",
       " <selenium.webdriver.remote.webelement.WebElement (session=\"824f2758d048704158ccb32c3ba67f1d\", element=\"262a8112-98f0-41bb-8338-78b70adc6f31\")>,\n",
       " <selenium.webdriver.remote.webelement.WebElement (session=\"824f2758d048704158ccb32c3ba67f1d\", element=\"4ec1d079-ad41-431e-b979-227fbe62f073\")>,\n",
       " <selenium.webdriver.remote.webelement.WebElement (session=\"824f2758d048704158ccb32c3ba67f1d\", element=\"3ded88b5-0140-42c4-94df-938dc27a2762\")>,\n",
       " <selenium.webdriver.remote.webelement.WebElement (session=\"824f2758d048704158ccb32c3ba67f1d\", element=\"195d9200-0cd2-45da-bbf5-f045f3ac13dc\")>,\n",
       " <selenium.webdriver.remote.webelement.WebElement (session=\"824f2758d048704158ccb32c3ba67f1d\", element=\"967a5bfb-64fa-4906-a9ba-b46f294ae9f7\")>,\n",
       " <selenium.webdriver.remote.webelement.WebElement (session=\"824f2758d048704158ccb32c3ba67f1d\", element=\"3cb2019b-5735-470b-9a6f-b08aa102f2da\")>,\n",
       " <selenium.webdriver.remote.webelement.WebElement (session=\"824f2758d048704158ccb32c3ba67f1d\", element=\"e412b556-715f-48ef-b97c-d026c4530933\")>,\n",
       " <selenium.webdriver.remote.webelement.WebElement (session=\"824f2758d048704158ccb32c3ba67f1d\", element=\"5368676c-5213-4449-a9fc-7cee51fb356d\")>,\n",
       " <selenium.webdriver.remote.webelement.WebElement (session=\"824f2758d048704158ccb32c3ba67f1d\", element=\"629302b5-9309-4575-aeae-d8261554e402\")>,\n",
       " <selenium.webdriver.remote.webelement.WebElement (session=\"824f2758d048704158ccb32c3ba67f1d\", element=\"ede151f4-42b9-457d-b418-cc97a20f1dfa\")>,\n",
       " <selenium.webdriver.remote.webelement.WebElement (session=\"824f2758d048704158ccb32c3ba67f1d\", element=\"25bf6f94-7f26-4079-9bce-4ebd59c78772\")>,\n",
       " <selenium.webdriver.remote.webelement.WebElement (session=\"824f2758d048704158ccb32c3ba67f1d\", element=\"cfb71e05-4e3d-400b-8627-7593231a9b2f\")>,\n",
       " <selenium.webdriver.remote.webelement.WebElement (session=\"824f2758d048704158ccb32c3ba67f1d\", element=\"3a88640e-4059-40c8-a4b8-71bed3e0bfc5\")>,\n",
       " <selenium.webdriver.remote.webelement.WebElement (session=\"824f2758d048704158ccb32c3ba67f1d\", element=\"1c40cd81-9017-42f8-8466-1b05d17fd862\")>,\n",
       " <selenium.webdriver.remote.webelement.WebElement (session=\"824f2758d048704158ccb32c3ba67f1d\", element=\"29ba3fc0-2419-4143-8df2-0e68cde378ba\")>,\n",
       " <selenium.webdriver.remote.webelement.WebElement (session=\"824f2758d048704158ccb32c3ba67f1d\", element=\"f045579c-925e-4702-bbcd-3d6bb66a46bc\")>,\n",
       " <selenium.webdriver.remote.webelement.WebElement (session=\"824f2758d048704158ccb32c3ba67f1d\", element=\"98259ed8-ab5c-4b77-8cd3-433e0fda8fd0\")>,\n",
       " <selenium.webdriver.remote.webelement.WebElement (session=\"824f2758d048704158ccb32c3ba67f1d\", element=\"aa9fe1d5-6587-46f5-9f9f-ed1d4a8fd739\")>,\n",
       " <selenium.webdriver.remote.webelement.WebElement (session=\"824f2758d048704158ccb32c3ba67f1d\", element=\"cab695af-71c4-4eee-be7e-2bbf35fe895c\")>,\n",
       " <selenium.webdriver.remote.webelement.WebElement (session=\"824f2758d048704158ccb32c3ba67f1d\", element=\"142ebf5c-9d0d-45a2-adeb-6653252d9e91\")>,\n",
       " <selenium.webdriver.remote.webelement.WebElement (session=\"824f2758d048704158ccb32c3ba67f1d\", element=\"fca04457-7ba0-4f23-ad64-08a46fd5c2d7\")>,\n",
       " <selenium.webdriver.remote.webelement.WebElement (session=\"824f2758d048704158ccb32c3ba67f1d\", element=\"e68e6ee3-a01c-4d2f-b93f-ef7f992add27\")>,\n",
       " <selenium.webdriver.remote.webelement.WebElement (session=\"824f2758d048704158ccb32c3ba67f1d\", element=\"29546b33-cf33-4686-b84d-175f2e8da0b8\")>,\n",
       " <selenium.webdriver.remote.webelement.WebElement (session=\"824f2758d048704158ccb32c3ba67f1d\", element=\"081f77c0-f849-41cc-83dd-4dc7ecae82a3\")>,\n",
       " <selenium.webdriver.remote.webelement.WebElement (session=\"824f2758d048704158ccb32c3ba67f1d\", element=\"96522b5e-b706-405b-98ff-8f443d7af67d\")>,\n",
       " <selenium.webdriver.remote.webelement.WebElement (session=\"824f2758d048704158ccb32c3ba67f1d\", element=\"fb53e365-f044-47ab-8605-784b0ded9563\")>,\n",
       " <selenium.webdriver.remote.webelement.WebElement (session=\"824f2758d048704158ccb32c3ba67f1d\", element=\"7dd5a09a-377e-4f31-8059-05f221d05047\")>,\n",
       " <selenium.webdriver.remote.webelement.WebElement (session=\"824f2758d048704158ccb32c3ba67f1d\", element=\"53317fba-3ac7-4f69-b771-769ce3118dff\")>,\n",
       " <selenium.webdriver.remote.webelement.WebElement (session=\"824f2758d048704158ccb32c3ba67f1d\", element=\"4657caba-ada5-4b26-b002-b5c2343a77f6\")>,\n",
       " <selenium.webdriver.remote.webelement.WebElement (session=\"824f2758d048704158ccb32c3ba67f1d\", element=\"773f6ede-a216-4a13-9c4f-58bf75a1c4c1\")>,\n",
       " <selenium.webdriver.remote.webelement.WebElement (session=\"824f2758d048704158ccb32c3ba67f1d\", element=\"6106371b-da67-465e-83b6-1a0840eb91a1\")>,\n",
       " <selenium.webdriver.remote.webelement.WebElement (session=\"824f2758d048704158ccb32c3ba67f1d\", element=\"18949348-6364-41d8-b582-a04d3e6f0a1e\")>,\n",
       " <selenium.webdriver.remote.webelement.WebElement (session=\"824f2758d048704158ccb32c3ba67f1d\", element=\"8a2c808f-0b14-437a-8b20-b37bd5acba63\")>,\n",
       " <selenium.webdriver.remote.webelement.WebElement (session=\"824f2758d048704158ccb32c3ba67f1d\", element=\"de82b89d-1578-4901-931c-67c564042535\")>,\n",
       " <selenium.webdriver.remote.webelement.WebElement (session=\"824f2758d048704158ccb32c3ba67f1d\", element=\"6d4e3bb7-33d8-42db-bc93-eb4b926f80d8\")>,\n",
       " <selenium.webdriver.remote.webelement.WebElement (session=\"824f2758d048704158ccb32c3ba67f1d\", element=\"91f79d33-4d2c-4778-88de-af35abf17c35\")>,\n",
       " <selenium.webdriver.remote.webelement.WebElement (session=\"824f2758d048704158ccb32c3ba67f1d\", element=\"0ab2c00a-e39e-4658-b83b-95406dbcc581\")>,\n",
       " <selenium.webdriver.remote.webelement.WebElement (session=\"824f2758d048704158ccb32c3ba67f1d\", element=\"6feebf29-4061-40b4-b6a9-7561db67a6e4\")>,\n",
       " <selenium.webdriver.remote.webelement.WebElement (session=\"824f2758d048704158ccb32c3ba67f1d\", element=\"50c35f86-4d47-4f1a-85de-4fec463c8070\")>,\n",
       " <selenium.webdriver.remote.webelement.WebElement (session=\"824f2758d048704158ccb32c3ba67f1d\", element=\"f2f9ced5-c0a2-499e-884f-9a31945bcf5d\")>,\n",
       " <selenium.webdriver.remote.webelement.WebElement (session=\"824f2758d048704158ccb32c3ba67f1d\", element=\"f0c4079a-31b6-41ea-9006-c06e49ace1ca\")>,\n",
       " <selenium.webdriver.remote.webelement.WebElement (session=\"824f2758d048704158ccb32c3ba67f1d\", element=\"ad102699-f249-4c4e-a41d-b66951fb2a7b\")>,\n",
       " <selenium.webdriver.remote.webelement.WebElement (session=\"824f2758d048704158ccb32c3ba67f1d\", element=\"d2059e26-f4a8-4734-bc40-0d92c1f3526c\")>,\n",
       " <selenium.webdriver.remote.webelement.WebElement (session=\"824f2758d048704158ccb32c3ba67f1d\", element=\"904eea48-1748-4ce3-95a3-a7ab414b1acd\")>,\n",
       " <selenium.webdriver.remote.webelement.WebElement (session=\"824f2758d048704158ccb32c3ba67f1d\", element=\"d75e4d76-a6cd-4e94-8352-e4810ef96934\")>,\n",
       " <selenium.webdriver.remote.webelement.WebElement (session=\"824f2758d048704158ccb32c3ba67f1d\", element=\"82220502-bffa-498e-be79-b35c85f17d8a\")>,\n",
       " <selenium.webdriver.remote.webelement.WebElement (session=\"824f2758d048704158ccb32c3ba67f1d\", element=\"f3c2cfc5-71f6-4538-8f22-3b29ccc23eeb\")>,\n",
       " <selenium.webdriver.remote.webelement.WebElement (session=\"824f2758d048704158ccb32c3ba67f1d\", element=\"e555f0f1-3416-4661-b0e2-1aa8f7276590\")>,\n",
       " <selenium.webdriver.remote.webelement.WebElement (session=\"824f2758d048704158ccb32c3ba67f1d\", element=\"45d201cf-71aa-4911-8879-2dfd9b75e673\")>,\n",
       " <selenium.webdriver.remote.webelement.WebElement (session=\"824f2758d048704158ccb32c3ba67f1d\", element=\"c69e2b4d-1f48-4d12-868d-c94ff079b9c8\")>,\n",
       " <selenium.webdriver.remote.webelement.WebElement (session=\"824f2758d048704158ccb32c3ba67f1d\", element=\"906523ee-e8cc-42e1-89b7-d804612bfa43\")>,\n",
       " <selenium.webdriver.remote.webelement.WebElement (session=\"824f2758d048704158ccb32c3ba67f1d\", element=\"ca1c50dc-c955-4b7b-93d2-dfd92c350e5b\")>,\n",
       " <selenium.webdriver.remote.webelement.WebElement (session=\"824f2758d048704158ccb32c3ba67f1d\", element=\"835885f5-d329-4437-be65-4a0732782130\")>,\n",
       " <selenium.webdriver.remote.webelement.WebElement (session=\"824f2758d048704158ccb32c3ba67f1d\", element=\"20cb9e2d-36ee-4e1e-a961-4e42d4eae238\")>,\n",
       " <selenium.webdriver.remote.webelement.WebElement (session=\"824f2758d048704158ccb32c3ba67f1d\", element=\"4a6706bc-b7c7-420b-9e26-eb2175b8e451\")>,\n",
       " <selenium.webdriver.remote.webelement.WebElement (session=\"824f2758d048704158ccb32c3ba67f1d\", element=\"5c82793b-aed5-41d3-8b39-f0615a0b0c32\")>,\n",
       " <selenium.webdriver.remote.webelement.WebElement (session=\"824f2758d048704158ccb32c3ba67f1d\", element=\"ba2a447d-0bd4-4df5-b087-a71ab790967b\")>,\n",
       " <selenium.webdriver.remote.webelement.WebElement (session=\"824f2758d048704158ccb32c3ba67f1d\", element=\"223645d7-40d6-4d9d-a396-ddb12817da18\")>,\n",
       " <selenium.webdriver.remote.webelement.WebElement (session=\"824f2758d048704158ccb32c3ba67f1d\", element=\"67043352-7186-416a-ade8-c829169768da\")>,\n",
       " <selenium.webdriver.remote.webelement.WebElement (session=\"824f2758d048704158ccb32c3ba67f1d\", element=\"59633e76-04d9-4953-a588-5876a4d5216a\")>,\n",
       " <selenium.webdriver.remote.webelement.WebElement (session=\"824f2758d048704158ccb32c3ba67f1d\", element=\"f4fab7b6-94ad-48d5-ad1e-c67441dde357\")>,\n",
       " <selenium.webdriver.remote.webelement.WebElement (session=\"824f2758d048704158ccb32c3ba67f1d\", element=\"347db34c-1687-4b05-b33f-ac5bafe7b166\")>,\n",
       " <selenium.webdriver.remote.webelement.WebElement (session=\"824f2758d048704158ccb32c3ba67f1d\", element=\"e476f1c5-20a2-4749-bf2d-2244825d549b\")>,\n",
       " <selenium.webdriver.remote.webelement.WebElement (session=\"824f2758d048704158ccb32c3ba67f1d\", element=\"4af22cfd-0401-4bec-b9d9-120012095dda\")>,\n",
       " <selenium.webdriver.remote.webelement.WebElement (session=\"824f2758d048704158ccb32c3ba67f1d\", element=\"b8c56c9a-a3ca-4a72-8366-20d475e9d009\")>,\n",
       " <selenium.webdriver.remote.webelement.WebElement (session=\"824f2758d048704158ccb32c3ba67f1d\", element=\"bc2eda2d-5bf6-424e-8b31-d9d32ad11297\")>,\n",
       " <selenium.webdriver.remote.webelement.WebElement (session=\"824f2758d048704158ccb32c3ba67f1d\", element=\"5dfa516a-86b0-4e5f-98cc-3b07c8f1f12c\")>,\n",
       " <selenium.webdriver.remote.webelement.WebElement (session=\"824f2758d048704158ccb32c3ba67f1d\", element=\"77924191-b396-4a1b-adcf-f7e9d7f5e34e\")>,\n",
       " <selenium.webdriver.remote.webelement.WebElement (session=\"824f2758d048704158ccb32c3ba67f1d\", element=\"e3bc6339-96d0-4b21-9beb-a0a4e7bc8d72\")>,\n",
       " <selenium.webdriver.remote.webelement.WebElement (session=\"824f2758d048704158ccb32c3ba67f1d\", element=\"39b1721c-892e-41b7-8ad4-c91b817c6fbe\")>,\n",
       " <selenium.webdriver.remote.webelement.WebElement (session=\"824f2758d048704158ccb32c3ba67f1d\", element=\"cee25fc1-bfce-47c4-a482-5bf711fd5f7d\")>,\n",
       " <selenium.webdriver.remote.webelement.WebElement (session=\"824f2758d048704158ccb32c3ba67f1d\", element=\"bb82ae57-fa0d-4f56-88f9-a36291f6afbd\")>,\n",
       " <selenium.webdriver.remote.webelement.WebElement (session=\"824f2758d048704158ccb32c3ba67f1d\", element=\"70a4ec35-9872-4a3f-9c06-b09437e34049\")>,\n",
       " <selenium.webdriver.remote.webelement.WebElement (session=\"824f2758d048704158ccb32c3ba67f1d\", element=\"bac1b01e-0e56-4ad4-8995-252025a1efa2\")>,\n",
       " <selenium.webdriver.remote.webelement.WebElement (session=\"824f2758d048704158ccb32c3ba67f1d\", element=\"5a6035a4-4371-4a79-b6b9-2a3a18692ab7\")>,\n",
       " <selenium.webdriver.remote.webelement.WebElement (session=\"824f2758d048704158ccb32c3ba67f1d\", element=\"a4bb0662-b7f4-41d2-a850-0dfd30900b1e\")>,\n",
       " <selenium.webdriver.remote.webelement.WebElement (session=\"824f2758d048704158ccb32c3ba67f1d\", element=\"ebf259c0-83a7-4e83-abe4-1fd83d745bf9\")>,\n",
       " <selenium.webdriver.remote.webelement.WebElement (session=\"824f2758d048704158ccb32c3ba67f1d\", element=\"1a70472c-a501-4d97-b2dd-c6f685849cee\")>,\n",
       " <selenium.webdriver.remote.webelement.WebElement (session=\"824f2758d048704158ccb32c3ba67f1d\", element=\"e45ba116-fb1c-4c92-be19-f62088f3a1de\")>,\n",
       " <selenium.webdriver.remote.webelement.WebElement (session=\"824f2758d048704158ccb32c3ba67f1d\", element=\"7d218cd5-1071-4316-8d17-8fc0d87b372e\")>,\n",
       " <selenium.webdriver.remote.webelement.WebElement (session=\"824f2758d048704158ccb32c3ba67f1d\", element=\"e46476a1-a7f3-402b-b1b6-2cad4788d999\")>,\n",
       " <selenium.webdriver.remote.webelement.WebElement (session=\"824f2758d048704158ccb32c3ba67f1d\", element=\"4b4fbbbd-2152-4e45-b1b9-4d16491e9971\")>,\n",
       " <selenium.webdriver.remote.webelement.WebElement (session=\"824f2758d048704158ccb32c3ba67f1d\", element=\"5fa56b6a-9848-4bc4-8008-308fdb18133a\")>,\n",
       " <selenium.webdriver.remote.webelement.WebElement (session=\"824f2758d048704158ccb32c3ba67f1d\", element=\"99a537d4-7dd5-4e71-98e3-682c9cdb3388\")>,\n",
       " <selenium.webdriver.remote.webelement.WebElement (session=\"824f2758d048704158ccb32c3ba67f1d\", element=\"916715b3-08e3-4700-9124-a3654510ea73\")>,\n",
       " <selenium.webdriver.remote.webelement.WebElement (session=\"824f2758d048704158ccb32c3ba67f1d\", element=\"7cf731dc-f5f0-4606-8ac2-9c442646a3fb\")>,\n",
       " <selenium.webdriver.remote.webelement.WebElement (session=\"824f2758d048704158ccb32c3ba67f1d\", element=\"82cc0bad-a8d2-4df0-987e-183473cbf03f\")>,\n",
       " <selenium.webdriver.remote.webelement.WebElement (session=\"824f2758d048704158ccb32c3ba67f1d\", element=\"dd4d3d8f-5dae-47bf-b3e9-6e421cd189f0\")>,\n",
       " <selenium.webdriver.remote.webelement.WebElement (session=\"824f2758d048704158ccb32c3ba67f1d\", element=\"a1091c85-220b-47af-8fe0-9a6d3129cf5d\")>,\n",
       " <selenium.webdriver.remote.webelement.WebElement (session=\"824f2758d048704158ccb32c3ba67f1d\", element=\"d9ae9cdb-f9a4-45a6-94c3-84d3449b88c8\")>,\n",
       " <selenium.webdriver.remote.webelement.WebElement (session=\"824f2758d048704158ccb32c3ba67f1d\", element=\"59bf6f86-7ed2-4bc6-982a-615841e38fad\")>,\n",
       " <selenium.webdriver.remote.webelement.WebElement (session=\"824f2758d048704158ccb32c3ba67f1d\", element=\"0934f442-2fec-43fb-85cd-eaf07c8c6d8c\")>,\n",
       " <selenium.webdriver.remote.webelement.WebElement (session=\"824f2758d048704158ccb32c3ba67f1d\", element=\"37dc5622-181a-4470-9843-d1d25649c4c1\")>,\n",
       " <selenium.webdriver.remote.webelement.WebElement (session=\"824f2758d048704158ccb32c3ba67f1d\", element=\"e5bb436b-e909-456f-9042-cdeaed71432a\")>,\n",
       " <selenium.webdriver.remote.webelement.WebElement (session=\"824f2758d048704158ccb32c3ba67f1d\", element=\"db04e048-ce06-4ea3-a893-371e361df012\")>,\n",
       " <selenium.webdriver.remote.webelement.WebElement (session=\"824f2758d048704158ccb32c3ba67f1d\", element=\"82a8e576-48c8-46d5-b955-5eaa68676dff\")>,\n",
       " <selenium.webdriver.remote.webelement.WebElement (session=\"824f2758d048704158ccb32c3ba67f1d\", element=\"91693859-1fde-4c27-8701-1bc80818f2de\")>,\n",
       " <selenium.webdriver.remote.webelement.WebElement (session=\"824f2758d048704158ccb32c3ba67f1d\", element=\"8b9065e6-9cd5-48fc-94da-0247f3113b37\")>,\n",
       " <selenium.webdriver.remote.webelement.WebElement (session=\"824f2758d048704158ccb32c3ba67f1d\", element=\"5cd5f2c0-21ae-4b2b-a55d-dfd325b68f88\")>,\n",
       " <selenium.webdriver.remote.webelement.WebElement (session=\"824f2758d048704158ccb32c3ba67f1d\", element=\"9f76bf8c-f29a-49a4-80d6-26e111c93360\")>,\n",
       " <selenium.webdriver.remote.webelement.WebElement (session=\"824f2758d048704158ccb32c3ba67f1d\", element=\"2c6c374d-5dc1-43b7-b91c-185d9b8b6b89\")>,\n",
       " <selenium.webdriver.remote.webelement.WebElement (session=\"824f2758d048704158ccb32c3ba67f1d\", element=\"7f5db5b0-201d-480e-842d-fe110754bdd1\")>,\n",
       " <selenium.webdriver.remote.webelement.WebElement (session=\"824f2758d048704158ccb32c3ba67f1d\", element=\"9cd2e5d7-9d13-458b-b9d4-02f982897c78\")>]"
      ]
     },
     "execution_count": 82,
     "metadata": {},
     "output_type": "execute_result"
    }
   ],
   "source": [
    "filter_btn8=driver8.find_elements_by_class_name('a-section')\n",
    "for i in filter_btn8:\n",
    "    if i.text=='Intel Core i7':\n",
    "        i.click()\n",
    "        break\n",
    "filter_btn8"
   ]
  },
  {
   "cell_type": "markdown",
   "id": "2afe3191",
   "metadata": {},
   "source": [
    "### Scrap title, price and rating"
   ]
  },
  {
   "cell_type": "code",
   "execution_count": 83,
   "id": "4bbf53d7",
   "metadata": {},
   "outputs": [],
   "source": [
    "title8=[]\n",
    "price8=[]\n",
    "ratings8=[]\n",
    "\n",
    "titles8=driver8.find_elements_by_xpath(\"//span[@class='a-size-medium a-color-base a-text-normal']\")\n",
    "for i in titles8[:10]:\n",
    "    title8.append(i.text)\n",
    "    \n",
    "prices8=driver8.find_elements_by_xpath(\"//span[@class='a-price-whole']\")\n",
    "for i in prices8[:10]:\n",
    "    price8.append(i.text)\n",
    "\n",
    "urls8=driver8.find_elements_by_xpath(\"//a[@class='a-link-normal a-text-normal']\")\n",
    "urls_8=[]\n",
    "for i in urls8[:10]:\n",
    "    urls_8.append(i.get_attribute('href'))"
   ]
  },
  {
   "cell_type": "code",
   "execution_count": 84,
   "id": "c13ff6a5",
   "metadata": {},
   "outputs": [
    {
     "data": {
      "text/plain": [
       "(10, 10)"
      ]
     },
     "execution_count": 84,
     "metadata": {},
     "output_type": "execute_result"
    }
   ],
   "source": [
    "len(title8), len(price8)"
   ]
  },
  {
   "cell_type": "markdown",
   "id": "7c6fee95",
   "metadata": {},
   "source": [
    "#### DataFame"
   ]
  },
  {
   "cell_type": "code",
   "execution_count": 85,
   "id": "2712ec13",
   "metadata": {},
   "outputs": [
    {
     "data": {
      "text/html": [
       "<div>\n",
       "<style scoped>\n",
       "    .dataframe tbody tr th:only-of-type {\n",
       "        vertical-align: middle;\n",
       "    }\n",
       "\n",
       "    .dataframe tbody tr th {\n",
       "        vertical-align: top;\n",
       "    }\n",
       "\n",
       "    .dataframe thead th {\n",
       "        text-align: right;\n",
       "    }\n",
       "</style>\n",
       "<table border=\"1\" class=\"dataframe\">\n",
       "  <thead>\n",
       "    <tr style=\"text-align: right;\">\n",
       "      <th></th>\n",
       "      <th>Title</th>\n",
       "      <th>Price</th>\n",
       "    </tr>\n",
       "  </thead>\n",
       "  <tbody>\n",
       "    <tr>\n",
       "      <th>1</th>\n",
       "      <td>Dell 14 (2021) i7-1195G7 2in1 Touch Screen Lap...</td>\n",
       "      <td>94,490</td>\n",
       "    </tr>\n",
       "    <tr>\n",
       "      <th>2</th>\n",
       "      <td>Mi Notebook Horizon Edition 14 Intel Core i7-1...</td>\n",
       "      <td>57,990</td>\n",
       "    </tr>\n",
       "    <tr>\n",
       "      <th>3</th>\n",
       "      <td>ASUS VivoBook 14 (2021), 14-inch (35.56 cms) F...</td>\n",
       "      <td>59,990</td>\n",
       "    </tr>\n",
       "    <tr>\n",
       "      <th>4</th>\n",
       "      <td>Acer Nitro 5 AN515-57 Gaming Laptop | Intel Co...</td>\n",
       "      <td>89,990</td>\n",
       "    </tr>\n",
       "    <tr>\n",
       "      <th>5</th>\n",
       "      <td>Lenovo ThinkBook 13s Intel 11th Gen Core i7 13...</td>\n",
       "      <td>79,990</td>\n",
       "    </tr>\n",
       "    <tr>\n",
       "      <th>6</th>\n",
       "      <td>ASUS TUF Gaming F15 (2021) 15.6-inch (39.62 cm...</td>\n",
       "      <td>1,14,990</td>\n",
       "    </tr>\n",
       "    <tr>\n",
       "      <th>7</th>\n",
       "      <td>HP Pavilion 13, 11th Gen Intel Core i7, 13.3-i...</td>\n",
       "      <td>87,990</td>\n",
       "    </tr>\n",
       "    <tr>\n",
       "      <th>8</th>\n",
       "      <td>Fujitsu UH-X 11th Gen Intel Core i7 13.3 inche...</td>\n",
       "      <td>1,07,490</td>\n",
       "    </tr>\n",
       "    <tr>\n",
       "      <th>9</th>\n",
       "      <td>ASUS TUF Dash F15 (2021) 15.6-inch (39.62 cms)...</td>\n",
       "      <td>82,990</td>\n",
       "    </tr>\n",
       "    <tr>\n",
       "      <th>10</th>\n",
       "      <td>MSI GF75 Thin Gaming, Intel i7-10750H, 17.3\" (...</td>\n",
       "      <td>76,990</td>\n",
       "    </tr>\n",
       "  </tbody>\n",
       "</table>\n",
       "</div>"
      ],
      "text/plain": [
       "                                                Title     Price\n",
       "1   Dell 14 (2021) i7-1195G7 2in1 Touch Screen Lap...    94,490\n",
       "2   Mi Notebook Horizon Edition 14 Intel Core i7-1...    57,990\n",
       "3   ASUS VivoBook 14 (2021), 14-inch (35.56 cms) F...    59,990\n",
       "4   Acer Nitro 5 AN515-57 Gaming Laptop | Intel Co...    89,990\n",
       "5   Lenovo ThinkBook 13s Intel 11th Gen Core i7 13...    79,990\n",
       "6   ASUS TUF Gaming F15 (2021) 15.6-inch (39.62 cm...  1,14,990\n",
       "7   HP Pavilion 13, 11th Gen Intel Core i7, 13.3-i...    87,990\n",
       "8   Fujitsu UH-X 11th Gen Intel Core i7 13.3 inche...  1,07,490\n",
       "9   ASUS TUF Dash F15 (2021) 15.6-inch (39.62 cms)...    82,990\n",
       "10  MSI GF75 Thin Gaming, Intel i7-10750H, 17.3\" (...    76,990"
      ]
     },
     "execution_count": 85,
     "metadata": {},
     "output_type": "execute_result"
    }
   ],
   "source": [
    "# creating a dataframe\n",
    "df8 =pd.DataFrame({'Title':title8,\n",
    "                'Price':price8\n",
    "                })\n",
    "#printing dataframe\n",
    "df8.index = df8.index + 1\n",
    "df8"
   ]
  },
  {
   "cell_type": "markdown",
   "id": "238487a1",
   "metadata": {},
   "source": [
    "## Q9: Write a python program to scrape data for first 10 job results for Data Scientist Designation in Noida location. You have to scrape company name, No. of days ago when job was posted, Rating of the company. This task will be done in following steps:\n",
    "1. First get the webpage https://www.ambitionbox.com/\n",
    "2. Click on the Job option as shown in the image\n",
    "3. After reaching to the next webpage, In place of “Search by Designations, Companies, Skills” enter “Data Scientist” and click on search button.\n",
    "4. You will reach to the following web page click on location and in place of “Search location” enter “Noida” and select location “Noida”.\n",
    "5. Then scrape the data for the first 10 jobs results you get on the above shown page.\n",
    "6. Finally create a dataframe of the scraped data."
   ]
  },
  {
   "cell_type": "code",
   "execution_count": 86,
   "id": "7b38a969",
   "metadata": {},
   "outputs": [],
   "source": [
    "# Let's first connect to the web driver\n",
    "driver9 = webdriver.Chrome(r\"C:\\Users\\dell\\Downloads\\chromedriver_win32\\chromedriver.exe\")"
   ]
  },
  {
   "cell_type": "code",
   "execution_count": 87,
   "id": "ffcaeac5",
   "metadata": {},
   "outputs": [],
   "source": [
    "url9='https://www.ambitionbox.com/'\n",
    "driver9.get(url9)"
   ]
  },
  {
   "cell_type": "code",
   "execution_count": 88,
   "id": "d86ba6a0",
   "metadata": {},
   "outputs": [
    {
     "data": {
      "text/plain": [
       "<selenium.webdriver.remote.webelement.WebElement (session=\"90c923816058ec47a88c3db9a7c48dcc\", element=\"25f3ad9a-2a52-4c28-94b2-4aee165ae4bb\")>"
      ]
     },
     "execution_count": 88,
     "metadata": {},
     "output_type": "execute_result"
    }
   ],
   "source": [
    "job_option9 = driver9.find_element_by_xpath('/html/body/div[1]/nav/nav/a[6]')\n",
    "job_option9"
   ]
  },
  {
   "cell_type": "code",
   "execution_count": 89,
   "id": "23fdbe11",
   "metadata": {},
   "outputs": [],
   "source": [
    "job_option9.click()"
   ]
  },
  {
   "cell_type": "code",
   "execution_count": 90,
   "id": "5a52b361",
   "metadata": {},
   "outputs": [
    {
     "data": {
      "text/plain": [
       "<selenium.webdriver.remote.webelement.WebElement (session=\"90c923816058ec47a88c3db9a7c48dcc\", element=\"c0760bb1-0b79-4480-9e59-4e4a40aa4117\")>"
      ]
     },
     "execution_count": 90,
     "metadata": {},
     "output_type": "execute_result"
    }
   ],
   "source": [
    "search_job9 = driver9.find_element_by_xpath('/html/body/div/div/div/div[2]/div[1]/div/div/div/div/span/input')\n",
    "search_job9"
   ]
  },
  {
   "cell_type": "code",
   "execution_count": 91,
   "id": "bb8afcbb",
   "metadata": {},
   "outputs": [],
   "source": [
    "search_job9.send_keys('Data Scientist')"
   ]
  },
  {
   "cell_type": "code",
   "execution_count": 92,
   "id": "1239e01e",
   "metadata": {},
   "outputs": [
    {
     "data": {
      "text/plain": [
       "<selenium.webdriver.remote.webelement.WebElement (session=\"90c923816058ec47a88c3db9a7c48dcc\", element=\"50c46131-6b26-4cd1-8127-6ea6d47c047e\")>"
      ]
     },
     "execution_count": 92,
     "metadata": {},
     "output_type": "execute_result"
    }
   ],
   "source": [
    "search_btn9 = driver9.find_element_by_xpath(\"/html/body/div/div/div/div[2]/div[1]/div/div/div/button/span\")\n",
    "search_btn9"
   ]
  },
  {
   "cell_type": "code",
   "execution_count": 93,
   "id": "9a9f2577",
   "metadata": {},
   "outputs": [],
   "source": [
    "search_btn9.click()"
   ]
  },
  {
   "cell_type": "code",
   "execution_count": 94,
   "id": "f7bfb93f",
   "metadata": {},
   "outputs": [
    {
     "data": {
      "text/plain": [
       "<selenium.webdriver.remote.webelement.WebElement (session=\"90c923816058ec47a88c3db9a7c48dcc\", element=\"7b81a259-7e3b-4725-8f05-40f051279985\")>"
      ]
     },
     "execution_count": 94,
     "metadata": {},
     "output_type": "execute_result"
    }
   ],
   "source": [
    "select_location9 = driver9.find_element_by_xpath(\"/html/body/div/div/div/div[2]/div[2]/div[1]/div/div/div/div[2]/div[1]/p\")\n",
    "select_location9"
   ]
  },
  {
   "cell_type": "code",
   "execution_count": 95,
   "id": "9ed2a5e2",
   "metadata": {},
   "outputs": [],
   "source": [
    "select_location9.click()"
   ]
  },
  {
   "cell_type": "code",
   "execution_count": 96,
   "id": "4759ecd4",
   "metadata": {},
   "outputs": [
    {
     "data": {
      "text/plain": [
       "<selenium.webdriver.remote.webelement.WebElement (session=\"90c923816058ec47a88c3db9a7c48dcc\", element=\"be8da950-4789-4cfa-9a18-2029bdbf9633\")>"
      ]
     },
     "execution_count": 96,
     "metadata": {},
     "output_type": "execute_result"
    }
   ],
   "source": [
    "location9 = driver9.find_element_by_xpath('/html/body/div/div/div/div[2]/div[2]/div[1]/div/div/div/div[2]/div[2]/div/div[2]/input')\n",
    "location9"
   ]
  },
  {
   "cell_type": "code",
   "execution_count": 97,
   "id": "c8ce10bb",
   "metadata": {},
   "outputs": [],
   "source": [
    "location9.send_keys('Noida')"
   ]
  },
  {
   "cell_type": "code",
   "execution_count": 98,
   "id": "cf1632d5",
   "metadata": {},
   "outputs": [
    {
     "data": {
      "text/plain": [
       "<selenium.webdriver.remote.webelement.WebElement (session=\"90c923816058ec47a88c3db9a7c48dcc\", element=\"c88e332e-48a3-413d-a399-b313b8127829\")>"
      ]
     },
     "execution_count": 98,
     "metadata": {},
     "output_type": "execute_result"
    }
   ],
   "source": [
    "noida = driver9.find_element_by_xpath(\"/html/body/div/div/div/div[2]/div[2]/div[1]/div/div/div/div[2]/div[2]/div/div[3]/div/div/div[1]/label\")\n",
    "noida"
   ]
  },
  {
   "cell_type": "code",
   "execution_count": 99,
   "id": "1a629e8b",
   "metadata": {},
   "outputs": [],
   "source": [
    "noida.click()"
   ]
  },
  {
   "cell_type": "markdown",
   "id": "0ee0f093",
   "metadata": {},
   "source": [
    "### Scrap companies name, number of days ago the job was posted and ratins"
   ]
  },
  {
   "cell_type": "code",
   "execution_count": 100,
   "id": "3659d1a5",
   "metadata": {},
   "outputs": [],
   "source": [
    "companies9=[]\n",
    "days_9=[]\n",
    "rating9=[]\n",
    "\n",
    "comp_name9 = driver9.find_elements_by_xpath(\"//p[@class='company body-medium']\")\n",
    "for i in comp_name9[0:10]:\n",
    "    companies9.append(i.text)\n",
    "      \n",
    "days9 = driver9.find_elements_by_xpath(\"//div[@class='other-info']/span[1]\")\n",
    "for i in days9[0:10]:\n",
    "    days_9.append(i.text)\n",
    "\n",
    "ratings9 = driver9.find_elements_by_xpath(\"//div[@class='info']/div/div/a/span\")\n",
    "for i in ratings9[0:10] :\n",
    "    rating9.append(i.text)"
   ]
  },
  {
   "cell_type": "markdown",
   "id": "61aac4a5",
   "metadata": {},
   "source": [
    "#### Check Length"
   ]
  },
  {
   "cell_type": "code",
   "execution_count": 101,
   "id": "757573b1",
   "metadata": {},
   "outputs": [
    {
     "data": {
      "text/plain": [
       "(10, 10, 10)"
      ]
     },
     "execution_count": 101,
     "metadata": {},
     "output_type": "execute_result"
    }
   ],
   "source": [
    "len(companies9), len(days_9), len(rating9)"
   ]
  },
  {
   "cell_type": "markdown",
   "id": "78ae632d",
   "metadata": {},
   "source": [
    "#### DataFrame"
   ]
  },
  {
   "cell_type": "code",
   "execution_count": 102,
   "id": "1d188e0e",
   "metadata": {},
   "outputs": [
    {
     "data": {
      "text/html": [
       "<div>\n",
       "<style scoped>\n",
       "    .dataframe tbody tr th:only-of-type {\n",
       "        vertical-align: middle;\n",
       "    }\n",
       "\n",
       "    .dataframe tbody tr th {\n",
       "        vertical-align: top;\n",
       "    }\n",
       "\n",
       "    .dataframe thead th {\n",
       "        text-align: right;\n",
       "    }\n",
       "</style>\n",
       "<table border=\"1\" class=\"dataframe\">\n",
       "  <thead>\n",
       "    <tr style=\"text-align: right;\">\n",
       "      <th></th>\n",
       "      <th>Companies</th>\n",
       "      <th>No of days ago</th>\n",
       "      <th>Ratings</th>\n",
       "    </tr>\n",
       "  </thead>\n",
       "  <tbody>\n",
       "    <tr>\n",
       "      <th>1</th>\n",
       "      <td>Ameriprise Financial</td>\n",
       "      <td>2d ago</td>\n",
       "      <td>4.0</td>\n",
       "    </tr>\n",
       "    <tr>\n",
       "      <th>2</th>\n",
       "      <td>Paytm</td>\n",
       "      <td>8d ago</td>\n",
       "      <td>3.7</td>\n",
       "    </tr>\n",
       "    <tr>\n",
       "      <th>3</th>\n",
       "      <td>Jubilant Foodworks Limited</td>\n",
       "      <td>25d ago</td>\n",
       "      <td>3.9</td>\n",
       "    </tr>\n",
       "    <tr>\n",
       "      <th>4</th>\n",
       "      <td>CHT Sapiense</td>\n",
       "      <td>9d ago</td>\n",
       "      <td>3.7</td>\n",
       "    </tr>\n",
       "    <tr>\n",
       "      <th>5</th>\n",
       "      <td>CHT Sapiense</td>\n",
       "      <td>10d ago</td>\n",
       "      <td>3.7</td>\n",
       "    </tr>\n",
       "    <tr>\n",
       "      <th>6</th>\n",
       "      <td>GI Group</td>\n",
       "      <td>21d ago</td>\n",
       "      <td>4.1</td>\n",
       "    </tr>\n",
       "    <tr>\n",
       "      <th>7</th>\n",
       "      <td>GI Group</td>\n",
       "      <td>21d ago</td>\n",
       "      <td>4.1</td>\n",
       "    </tr>\n",
       "    <tr>\n",
       "      <th>8</th>\n",
       "      <td>GI Group</td>\n",
       "      <td>21d ago</td>\n",
       "      <td>4.1</td>\n",
       "    </tr>\n",
       "    <tr>\n",
       "      <th>9</th>\n",
       "      <td>RMS Risk Management Solutions</td>\n",
       "      <td>3d ago</td>\n",
       "      <td>3.5</td>\n",
       "    </tr>\n",
       "    <tr>\n",
       "      <th>10</th>\n",
       "      <td>Paytm</td>\n",
       "      <td>28d ago</td>\n",
       "      <td>3.7</td>\n",
       "    </tr>\n",
       "  </tbody>\n",
       "</table>\n",
       "</div>"
      ],
      "text/plain": [
       "                        Companies No of days ago Ratings\n",
       "1            Ameriprise Financial         2d ago     4.0\n",
       "2                           Paytm         8d ago     3.7\n",
       "3      Jubilant Foodworks Limited        25d ago     3.9\n",
       "4                    CHT Sapiense         9d ago     3.7\n",
       "5                    CHT Sapiense        10d ago     3.7\n",
       "6                        GI Group        21d ago     4.1\n",
       "7                        GI Group        21d ago     4.1\n",
       "8                        GI Group        21d ago     4.1\n",
       "9   RMS Risk Management Solutions         3d ago     3.5\n",
       "10                          Paytm        28d ago     3.7"
      ]
     },
     "execution_count": 102,
     "metadata": {},
     "output_type": "execute_result"
    }
   ],
   "source": [
    "# creating a dataframe\n",
    "df9 =pd.DataFrame({'Companies':companies9,\n",
    "                   'No of days ago':days_9,\n",
    "                   'Ratings':rating9\n",
    "                  })\n",
    "#printing dataframe\n",
    "df9.index = df9.index + 1\n",
    "df9"
   ]
  },
  {
   "cell_type": "markdown",
   "id": "cc5ae099",
   "metadata": {},
   "source": [
    "## Q10: Write a python program to scrape the salary data for Data Scientist designation. You have to scrape Company name, Number of salaries, Average salary, Minsalary, Max Salary. The above task will be, done as shown in the below steps:\n",
    "\n",
    "1. First get the webpage https://www.ambitionbox.com/\n",
    "2. Click on the salaries option as shown in the image.\n",
    "3. After reaching to the following webpage, In place of “Search Job Profile” enters “Data Scientist” and then click on “Data Scientist”.\n",
    "4. Scrape the data for the first 10 companies. Scrape the company name, total salary record, average salary, minimum salary, maximum salary, experience required.\n",
    "5. Store the data in a dataframe."
   ]
  },
  {
   "cell_type": "code",
   "execution_count": 103,
   "id": "c90e4a81",
   "metadata": {},
   "outputs": [],
   "source": [
    "# Let's first connect to the web driver\n",
    "driver = webdriver.Chrome(r\"C:\\Users\\dell\\Downloads\\chromedriver_win32\\chromedriver.exe\")"
   ]
  },
  {
   "cell_type": "code",
   "execution_count": 104,
   "id": "daf3d7b6",
   "metadata": {},
   "outputs": [],
   "source": [
    "url='https://www.ambitionbox.com/'\n",
    "driver.get(url)"
   ]
  },
  {
   "cell_type": "code",
   "execution_count": 105,
   "id": "aab30daa",
   "metadata": {},
   "outputs": [
    {
     "data": {
      "text/plain": [
       "<selenium.webdriver.remote.webelement.WebElement (session=\"f18053e75363ed9dd3bc43f4f604bbd7\", element=\"d250e0e7-09d6-4e78-9ba6-a602d268ae52\")>"
      ]
     },
     "execution_count": 105,
     "metadata": {},
     "output_type": "execute_result"
    }
   ],
   "source": [
    "salary = driver.find_element_by_xpath(\"//a[@class='link salaries']\")\n",
    "salary"
   ]
  },
  {
   "cell_type": "code",
   "execution_count": 106,
   "id": "16f9a4c6",
   "metadata": {},
   "outputs": [],
   "source": [
    "salary.click()"
   ]
  },
  {
   "cell_type": "code",
   "execution_count": 107,
   "id": "a2a4c12a",
   "metadata": {},
   "outputs": [
    {
     "data": {
      "text/plain": [
       "<selenium.webdriver.remote.webelement.WebElement (session=\"f18053e75363ed9dd3bc43f4f604bbd7\", element=\"31d32630-e96c-4861-9072-e31126c81393\")>"
      ]
     },
     "execution_count": 107,
     "metadata": {},
     "output_type": "execute_result"
    }
   ],
   "source": [
    "job_profile = driver.find_element_by_xpath('/html/body/div/div/div/main/section[1]/div[2]/div[1]/span/input')\n",
    "job_profile"
   ]
  },
  {
   "cell_type": "code",
   "execution_count": 108,
   "id": "d9093534",
   "metadata": {},
   "outputs": [],
   "source": [
    "job_profile.send_keys('Data Scientist')"
   ]
  },
  {
   "cell_type": "code",
   "execution_count": 109,
   "id": "b05477bf",
   "metadata": {},
   "outputs": [
    {
     "data": {
      "text/plain": [
       "<selenium.webdriver.remote.webelement.WebElement (session=\"f18053e75363ed9dd3bc43f4f604bbd7\", element=\"d3756aa8-8b25-4b37-9e7b-16bce4c6efae\")>"
      ]
     },
     "execution_count": 109,
     "metadata": {},
     "output_type": "execute_result"
    }
   ],
   "source": [
    "slt_ds = driver.find_element_by_xpath(\"/html/body/div/div/div/main/section[1]/div[2]/div[1]/span/div/div/div[1]/div/div/p\")\n",
    "slt_ds"
   ]
  },
  {
   "cell_type": "code",
   "execution_count": 110,
   "id": "4990523a",
   "metadata": {},
   "outputs": [],
   "source": [
    "slt_ds.click()"
   ]
  },
  {
   "cell_type": "markdown",
   "id": "5cf5b55c",
   "metadata": {},
   "source": [
    "### Scrap companies names, salaries based on, average salaries, minimum salaries, maximum salaries and experience"
   ]
  },
  {
   "cell_type": "code",
   "execution_count": 111,
   "id": "1d9d8826",
   "metadata": {},
   "outputs": [],
   "source": [
    "companies=[]\n",
    "salary=[]\n",
    "avg_salary=[]\n",
    "min_sal=[]\n",
    "max_sal=[]\n",
    "exp=[]\n",
    "\n",
    "comp = driver.find_elements_by_xpath(\"//div[@class='name']/a\")\n",
    "for i in comp[0:10]:\n",
    "    companies.append(i.text) \n",
    "\n",
    "sal = driver.find_elements_by_xpath(\"//div[@class='name']/span\")\n",
    "for i in sal[0:10]:\n",
    "    salary.append(i.text)\n",
    "\n",
    "avg = driver.find_elements_by_xpath(\"//p[@class='averageCtc']\")\n",
    "for i in avg[0:10]:\n",
    "    avg_salary.append(i.text)\n",
    "    \n",
    "min_salary = driver.find_elements_by_xpath(\"//div[@class='salary-values']/div[1]\")\n",
    "for i in min_salary[0:10]:\n",
    "    min_sal.append(i.text)\n",
    "    \n",
    "max_salary = driver.find_elements_by_xpath(\"//div[@class='salary-values']/div[2]\")\n",
    "for i in max_salary[0:10]:\n",
    "    max_sal.append(i.text)\n",
    "\n",
    "experience = driver.find_elements_by_xpath(\"//div[@class='salaries sbold-list-header']\")\n",
    "for i in experience[0:10]:\n",
    "    exp.append(i.text.split('\\n')[2])"
   ]
  },
  {
   "cell_type": "markdown",
   "id": "905b62b5",
   "metadata": {},
   "source": [
    "#### Check Length"
   ]
  },
  {
   "cell_type": "code",
   "execution_count": 113,
   "id": "177624b6",
   "metadata": {},
   "outputs": [
    {
     "data": {
      "text/plain": [
       "(10, 10, 10, 10, 10, 10)"
      ]
     },
     "execution_count": 113,
     "metadata": {},
     "output_type": "execute_result"
    }
   ],
   "source": [
    "len(companies),len(salary),len(avg_salary),len(min_sal),len(max_sal),len(exp)"
   ]
  },
  {
   "cell_type": "markdown",
   "id": "8590504e",
   "metadata": {},
   "source": [
    "#### DataFrame"
   ]
  },
  {
   "cell_type": "code",
   "execution_count": 115,
   "id": "81f4ca82",
   "metadata": {},
   "outputs": [
    {
     "data": {
      "text/html": [
       "<div>\n",
       "<style scoped>\n",
       "    .dataframe tbody tr th:only-of-type {\n",
       "        vertical-align: middle;\n",
       "    }\n",
       "\n",
       "    .dataframe tbody tr th {\n",
       "        vertical-align: top;\n",
       "    }\n",
       "\n",
       "    .dataframe thead th {\n",
       "        text-align: right;\n",
       "    }\n",
       "</style>\n",
       "<table border=\"1\" class=\"dataframe\">\n",
       "  <thead>\n",
       "    <tr style=\"text-align: right;\">\n",
       "      <th></th>\n",
       "      <th>Companie Name</th>\n",
       "      <th>Number of Salaries</th>\n",
       "      <th>Average Salary</th>\n",
       "      <th>Minimum Salary</th>\n",
       "      <th>Maximun Salary</th>\n",
       "      <th>Experience</th>\n",
       "    </tr>\n",
       "  </thead>\n",
       "  <tbody>\n",
       "    <tr>\n",
       "      <th>1</th>\n",
       "      <td>Ameriprise Financial</td>\n",
       "      <td>based on 10 salaries</td>\n",
       "      <td>₹ 28.7L</td>\n",
       "      <td>₹ 17.7L</td>\n",
       "      <td>₹ 35.0L</td>\n",
       "      <td>3 yrs exp</td>\n",
       "    </tr>\n",
       "    <tr>\n",
       "      <th>2</th>\n",
       "      <td>Paytm</td>\n",
       "      <td>based on 22 salaries</td>\n",
       "      <td>₹ 19.5L</td>\n",
       "      <td>₹ 15.0L</td>\n",
       "      <td>₹ 25.0L</td>\n",
       "      <td>3-4 yrs exp</td>\n",
       "    </tr>\n",
       "    <tr>\n",
       "      <th>3</th>\n",
       "      <td>Jubilant Foodworks Limited</td>\n",
       "      <td>based on 14 salaries</td>\n",
       "      <td>₹ 15.8L</td>\n",
       "      <td>₹ 9.8L</td>\n",
       "      <td>₹ 20.0L</td>\n",
       "      <td>2 yrs exp</td>\n",
       "    </tr>\n",
       "    <tr>\n",
       "      <th>4</th>\n",
       "      <td>CHT Sapiense</td>\n",
       "      <td>based on 72 salaries</td>\n",
       "      <td>₹ 15.0L</td>\n",
       "      <td>₹ 9.5L</td>\n",
       "      <td>₹ 22.0L</td>\n",
       "      <td>2-4 yrs exp</td>\n",
       "    </tr>\n",
       "    <tr>\n",
       "      <th>5</th>\n",
       "      <td>CHT Sapiense</td>\n",
       "      <td>based on 23 salaries</td>\n",
       "      <td>₹ 15.0L</td>\n",
       "      <td>₹ 11.0L</td>\n",
       "      <td>₹ 21.3L</td>\n",
       "      <td>3-4 yrs exp</td>\n",
       "    </tr>\n",
       "    <tr>\n",
       "      <th>6</th>\n",
       "      <td>GI Group</td>\n",
       "      <td>based on 49 salaries</td>\n",
       "      <td>₹ 13.5L</td>\n",
       "      <td>₹ 7.2L</td>\n",
       "      <td>₹ 20.5L</td>\n",
       "      <td>2-4 yrs exp</td>\n",
       "    </tr>\n",
       "    <tr>\n",
       "      <th>7</th>\n",
       "      <td>GI Group</td>\n",
       "      <td>based on 27 salaries</td>\n",
       "      <td>₹ 13.5L</td>\n",
       "      <td>₹ 8.3L</td>\n",
       "      <td>₹ 18.5L</td>\n",
       "      <td>3-4 yrs exp</td>\n",
       "    </tr>\n",
       "    <tr>\n",
       "      <th>8</th>\n",
       "      <td>GI Group</td>\n",
       "      <td>based on 14 salaries</td>\n",
       "      <td>₹ 12.7L</td>\n",
       "      <td>₹ 10.0L</td>\n",
       "      <td>₹ 21.0L</td>\n",
       "      <td>4 yrs exp</td>\n",
       "    </tr>\n",
       "    <tr>\n",
       "      <th>9</th>\n",
       "      <td>RMS Risk Management Solutions</td>\n",
       "      <td>based on 13 salaries</td>\n",
       "      <td>₹ 12.4L</td>\n",
       "      <td>₹ 8.5L</td>\n",
       "      <td>₹ 15.0L</td>\n",
       "      <td>4 yrs exp</td>\n",
       "    </tr>\n",
       "    <tr>\n",
       "      <th>10</th>\n",
       "      <td>Paytm</td>\n",
       "      <td>based on 42 salaries</td>\n",
       "      <td>₹ 11.9L</td>\n",
       "      <td>₹ 5.8L</td>\n",
       "      <td>₹ 21.5L</td>\n",
       "      <td>3-4 yrs exp</td>\n",
       "    </tr>\n",
       "  </tbody>\n",
       "</table>\n",
       "</div>"
      ],
      "text/plain": [
       "                    Companie Name    Number of Salaries Average Salary  \\\n",
       "1            Ameriprise Financial  based on 10 salaries        ₹ 28.7L   \n",
       "2                           Paytm  based on 22 salaries        ₹ 19.5L   \n",
       "3      Jubilant Foodworks Limited  based on 14 salaries        ₹ 15.8L   \n",
       "4                    CHT Sapiense  based on 72 salaries        ₹ 15.0L   \n",
       "5                    CHT Sapiense  based on 23 salaries        ₹ 15.0L   \n",
       "6                        GI Group  based on 49 salaries        ₹ 13.5L   \n",
       "7                        GI Group  based on 27 salaries        ₹ 13.5L   \n",
       "8                        GI Group  based on 14 salaries        ₹ 12.7L   \n",
       "9   RMS Risk Management Solutions  based on 13 salaries        ₹ 12.4L   \n",
       "10                          Paytm  based on 42 salaries        ₹ 11.9L   \n",
       "\n",
       "   Minimum Salary Maximun Salary   Experience  \n",
       "1         ₹ 17.7L        ₹ 35.0L    3 yrs exp  \n",
       "2         ₹ 15.0L        ₹ 25.0L  3-4 yrs exp  \n",
       "3          ₹ 9.8L        ₹ 20.0L    2 yrs exp  \n",
       "4          ₹ 9.5L        ₹ 22.0L  2-4 yrs exp  \n",
       "5         ₹ 11.0L        ₹ 21.3L  3-4 yrs exp  \n",
       "6          ₹ 7.2L        ₹ 20.5L  2-4 yrs exp  \n",
       "7          ₹ 8.3L        ₹ 18.5L  3-4 yrs exp  \n",
       "8         ₹ 10.0L        ₹ 21.0L    4 yrs exp  \n",
       "9          ₹ 8.5L        ₹ 15.0L    4 yrs exp  \n",
       "10         ₹ 5.8L        ₹ 21.5L  3-4 yrs exp  "
      ]
     },
     "execution_count": 115,
     "metadata": {},
     "output_type": "execute_result"
    }
   ],
   "source": [
    "# creating a dataframe\n",
    "df =pd.DataFrame({'Companie Name':companies9,\n",
    "                   'Number of Salaries':salary,\n",
    "                   'Average Salary':avg_salary,\n",
    "                   'Minimum Salary':min_sal,\n",
    "                   'Maximun Salary':max_sal,\n",
    "                   'Experience':exp\n",
    "                  })\n",
    "#printing dataframe\n",
    "df.index = df.index + 1\n",
    "df"
   ]
  },
  {
   "cell_type": "code",
   "execution_count": null,
   "id": "d12c57a3",
   "metadata": {},
   "outputs": [],
   "source": []
  }
 ],
 "metadata": {
  "kernelspec": {
   "display_name": "Python 3",
   "language": "python",
   "name": "python3"
  },
  "language_info": {
   "codemirror_mode": {
    "name": "ipython",
    "version": 3
   },
   "file_extension": ".py",
   "mimetype": "text/x-python",
   "name": "python",
   "nbconvert_exporter": "python",
   "pygments_lexer": "ipython3",
   "version": "3.8.8"
  }
 },
 "nbformat": 4,
 "nbformat_minor": 5
}
