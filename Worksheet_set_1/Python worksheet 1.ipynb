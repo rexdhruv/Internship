{
 "cells": [
  {
   "cell_type": "markdown",
   "id": "eecb24f6",
   "metadata": {},
   "source": [
    "## Write a python program to find the factorial of a number."
   ]
  },
  {
   "cell_type": "code",
   "execution_count": 26,
   "id": "653b748b",
   "metadata": {},
   "outputs": [
    {
     "name": "stdout",
     "output_type": "stream",
     "text": [
      "Enter a number: 5\n",
      "Factorial of  5  is:  120\n"
     ]
    }
   ],
   "source": [
    "val = int(input(\"Enter a number: \")) \n",
    "\n",
    "def factorial(val):\n",
    "    if val < 0: \n",
    "        return 0\n",
    "    elif val == 0 or val == 1:  \n",
    "        return 1\n",
    "    else:   #condition 3\n",
    "        fact = 1\n",
    "        while ( val > 1):\n",
    "            fact *= val\n",
    "            val -= 1\n",
    "        return fact\n",
    "\n",
    "print(\"Factorial of \",val,\" is: \", factorial(val))"
   ]
  },
  {
   "cell_type": "markdown",
   "id": "7c0a02f9",
   "metadata": {},
   "source": [
    "## Write a python program to find whether a number is prime or composite."
   ]
  },
  {
   "cell_type": "code",
   "execution_count": 27,
   "id": "ba43735f",
   "metadata": {},
   "outputs": [
    {
     "name": "stdout",
     "output_type": "stream",
     "text": [
      "Enter a number: 6\n",
      "6  is not a prime number\n"
     ]
    }
   ],
   "source": [
    "num = int(input(\"Enter a number: \")) \n",
    "\n",
    "if num == 0 or num == 1:\n",
    "    print(\"The number is neither prime nor composite\")\n",
    "elif num > 1:\n",
    "    for i in range(2, int(num/2)+1):\n",
    "        if (num % i) == 0:\n",
    "            print(num, \" is not a prime number\")\n",
    "            break\n",
    "        else:\n",
    "            print(num, \" is a prime number\")\n",
    "            break\n",
    "else: \n",
    "    print(\"The input number is a negative number\")\n",
    "        \n",
    "        "
   ]
  },
  {
   "cell_type": "markdown",
   "id": "998dcdda",
   "metadata": {},
   "source": [
    "## Write a python program to check whether a given string is palindrome or not."
   ]
  },
  {
   "cell_type": "code",
   "execution_count": 28,
   "id": "e0ee98de",
   "metadata": {},
   "outputs": [
    {
     "name": "stdout",
     "output_type": "stream",
     "text": [
      "Enter a string: xoxox\n",
      "Palindrome\n"
     ]
    }
   ],
   "source": [
    "string = (input(\"Enter a string: \")) \n",
    "\n",
    "def palindrome(x):\n",
    "    return x == x[::-1]\n",
    "\n",
    "x = string\n",
    "y = palindrome(x)\n",
    "\n",
    "if y:\n",
    "    print(\"Palindrome\")\n",
    "else:\n",
    "    print(\"Not Palindrome\")"
   ]
  },
  {
   "cell_type": "markdown",
   "id": "1a5d2c72",
   "metadata": {},
   "source": [
    "## Write a Python program to get the third side of right-angled triangle from two given sides."
   ]
  },
  {
   "cell_type": "code",
   "execution_count": 2,
   "id": "46a0a62e",
   "metadata": {},
   "outputs": [
    {
     "name": "stdout",
     "output_type": "stream",
     "text": [
      "To get any one of the given side of right-angled tringle:\n",
      "Press:\n",
      " 1 for Hypotenuse\n",
      " 2 for Base\n",
      " 3 for Height\n",
      "3\n",
      "Enter Hypotenuse: 5\n",
      "Enter Base: 3\n",
      "Height = 4.0\n"
     ]
    }
   ],
   "source": [
    "import math\n",
    "print(\"To get any one of the given side of right-angled tringle:\")\n",
    "\n",
    "x = int(input(\"Press:\\n 1 for Hypotenuse\\n 2 for Base\\n 3 for Height\\n\"))\n",
    "\n",
    "if x == 1:\n",
    "    a = float(input(\"Enter Base: \"))\n",
    "    b = float(input(\"Enter Height: \"))\n",
    "    c = math.sqrt(a ** 2 + b ** 2)\n",
    "    print(\"Hypotenuse =\", c)\n",
    "elif x == 2:\n",
    "    a = float(input(\"Enter Hypotenuse: \"))\n",
    "    b = float(input(\"Enter Height: \"))\n",
    "    c = math.sqrt(a ** 2 - b ** 2)\n",
    "    print(\"Base =\", c)\n",
    "elif x ==3:\n",
    "    a = float(input(\"Enter Hypotenuse: \"))\n",
    "    b = float(input(\"Enter Base: \"))\n",
    "    c = math.sqrt(a ** 2 - b ** 2)\n",
    "    print(\"Height =\", c)\n",
    "else:\n",
    "    print(\"You have press the wrong number\")"
   ]
  },
  {
   "cell_type": "markdown",
   "id": "e060c100",
   "metadata": {},
   "source": [
    "## Write a python program to print the frequency of each of the characters present in a given string."
   ]
  },
  {
   "cell_type": "code",
   "execution_count": 6,
   "id": "d1c3de28",
   "metadata": {},
   "outputs": [
    {
     "name": "stdout",
     "output_type": "stream",
     "text": [
      "Enter a string: mama\n",
      "Frequency of each characters: \n",
      " Counter({'m': 2, 'a': 2})\n"
     ]
    }
   ],
   "source": [
    "string = (input(\"Enter a string: \"))\n",
    "\n",
    "from collections import Counter\n",
    "each_char = Counter(string) \n",
    "\n",
    "print(\"Frequency of each characters: \\n\", each_char)"
   ]
  },
  {
   "cell_type": "code",
   "execution_count": null,
   "id": "57b89407",
   "metadata": {},
   "outputs": [],
   "source": []
  }
 ],
 "metadata": {
  "kernelspec": {
   "display_name": "Python 3",
   "language": "python",
   "name": "python3"
  },
  "language_info": {
   "codemirror_mode": {
    "name": "ipython",
    "version": 3
   },
   "file_extension": ".py",
   "mimetype": "text/x-python",
   "name": "python",
   "nbconvert_exporter": "python",
   "pygments_lexer": "ipython3",
   "version": "3.8.8"
  }
 },
 "nbformat": 4,
 "nbformat_minor": 5
}
